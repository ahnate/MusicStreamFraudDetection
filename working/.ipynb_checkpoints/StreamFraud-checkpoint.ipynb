{
 "cells": [
  {
   "cell_type": "markdown",
   "metadata": {},
   "source": [
    "Import packages"
   ]
  },
  {
   "cell_type": "code",
   "execution_count": 3,
   "metadata": {},
   "outputs": [],
   "source": [
    "import os\n",
    "import pandas as pd\n",
    "import numpy as np\n",
    "import json\n",
    "import matplotlib.pyplot as plt\n",
    "import datetime\n",
    "from sklearn import preprocessing\n",
    "%matplotlib inline"
   ]
  },
  {
   "cell_type": "markdown",
   "metadata": {},
   "source": [
    "Set working directory"
   ]
  },
  {
   "cell_type": "code",
   "execution_count": 4,
   "metadata": {},
   "outputs": [],
   "source": [
    "os.chdir('/Users/ahnate/Files/DataScience/RecordUnionFraudDetection/working')"
   ]
  },
  {
   "cell_type": "markdown",
   "metadata": {},
   "source": [
    "Define function for importing data"
   ]
  },
  {
   "cell_type": "code",
   "execution_count": 5,
   "metadata": {},
   "outputs": [],
   "source": [
    "def import_dat(input):\n",
    "    dat = open(input, \"r\").read()\n",
    "    # need to replace new lines with commas and format as list for json.loads\n",
    "    dat = json.loads(\"[\" + dat.replace(\"}\\n{\", \"},\\n{\") + \"]\")\n",
    "    # convert from json to dataframe\n",
    "    dat = pd.DataFrame.from_dict(dat, orient='columns')\n",
    "    return dat"
   ]
  },
  {
   "cell_type": "markdown",
   "metadata": {},
   "source": [
    "Import data"
   ]
  },
  {
   "cell_type": "code",
   "execution_count": 6,
   "metadata": {},
   "outputs": [],
   "source": [
    "tracks = import_dat(\"../input/tracks-2017-09-09\")\n",
    "users = import_dat(\"../input/users-2017-09-09\")\n",
    "streams = import_dat(\"../input/streams-2017-09-09-allcountries\")"
   ]
  },
  {
   "cell_type": "markdown",
   "metadata": {},
   "source": [
    "## Look at the data and do some preprocessing\n",
    "### Tracks"
   ]
  },
  {
   "cell_type": "code",
   "execution_count": 7,
   "metadata": {},
   "outputs": [
    {
     "data": {
      "text/html": [
       "<div>\n",
       "<style scoped>\n",
       "    .dataframe tbody tr th:only-of-type {\n",
       "        vertical-align: middle;\n",
       "    }\n",
       "\n",
       "    .dataframe tbody tr th {\n",
       "        vertical-align: top;\n",
       "    }\n",
       "\n",
       "    .dataframe thead th {\n",
       "        text-align: right;\n",
       "    }\n",
       "</style>\n",
       "<table border=\"1\" class=\"dataframe\">\n",
       "  <thead>\n",
       "    <tr style=\"text-align: right;\">\n",
       "      <th></th>\n",
       "      <th>album_artist</th>\n",
       "      <th>album_code</th>\n",
       "      <th>album_name</th>\n",
       "      <th>track_id</th>\n",
       "      <th>track_name</th>\n",
       "    </tr>\n",
       "  </thead>\n",
       "  <tbody>\n",
       "    <tr>\n",
       "      <th>0</th>\n",
       "      <td>Tasia Rojas</td>\n",
       "      <td>ece406c1937c4123e6b935f39898770dcaa0382c</td>\n",
       "      <td>Salmon Addition</td>\n",
       "      <td>fe2f34b55827b9721aa503d1dc9f3bca951859de</td>\n",
       "      <td>Doubtful Anteater</td>\n",
       "    </tr>\n",
       "    <tr>\n",
       "      <th>1</th>\n",
       "      <td>Gertrude Faulkner</td>\n",
       "      <td>bb94c41eade59eeec79b04aa141c99344528d09f</td>\n",
       "      <td>Newfoundland Quilt</td>\n",
       "      <td>2432c3346fc867e9026174ea73ab787a7fdeaa1f</td>\n",
       "      <td>Heartbreaking Louse</td>\n",
       "    </tr>\n",
       "    <tr>\n",
       "      <th>2</th>\n",
       "      <td>Ora Corcoran</td>\n",
       "      <td>0db473f623b01b0134f8178512f91e5ac60cb2af</td>\n",
       "      <td>Havanese Push</td>\n",
       "      <td>cb5e2409dfa5c9c8ccabdca2afeb6e84eca9a435</td>\n",
       "      <td>Watery Tortoise</td>\n",
       "    </tr>\n",
       "    <tr>\n",
       "      <th>3</th>\n",
       "      <td>Shanika Wing</td>\n",
       "      <td>4aadb443b1d8cc4c84a6ca1dd348c599396c7c17</td>\n",
       "      <td>Puma Hate</td>\n",
       "      <td>2998e8ecabbf9d220dc22c516740f7982b2353e8</td>\n",
       "      <td>Nutritious Ox</td>\n",
       "    </tr>\n",
       "    <tr>\n",
       "      <th>4</th>\n",
       "      <td>Lonnie Hope</td>\n",
       "      <td>a2b64056f39d60b0de18550d43a37b64b1f63dec</td>\n",
       "      <td>Kingfisher Garden</td>\n",
       "      <td>fb581ad122d260941757c5a2b1ed1a42108d632f</td>\n",
       "      <td>Foregoing Umbrellabird</td>\n",
       "    </tr>\n",
       "  </tbody>\n",
       "</table>\n",
       "</div>"
      ],
      "text/plain": [
       "        album_artist                                album_code  \\\n",
       "0        Tasia Rojas  ece406c1937c4123e6b935f39898770dcaa0382c   \n",
       "1  Gertrude Faulkner  bb94c41eade59eeec79b04aa141c99344528d09f   \n",
       "2       Ora Corcoran  0db473f623b01b0134f8178512f91e5ac60cb2af   \n",
       "3       Shanika Wing  4aadb443b1d8cc4c84a6ca1dd348c599396c7c17   \n",
       "4        Lonnie Hope  a2b64056f39d60b0de18550d43a37b64b1f63dec   \n",
       "\n",
       "           album_name                                  track_id  \\\n",
       "0     Salmon Addition  fe2f34b55827b9721aa503d1dc9f3bca951859de   \n",
       "1  Newfoundland Quilt  2432c3346fc867e9026174ea73ab787a7fdeaa1f   \n",
       "2       Havanese Push  cb5e2409dfa5c9c8ccabdca2afeb6e84eca9a435   \n",
       "3           Puma Hate  2998e8ecabbf9d220dc22c516740f7982b2353e8   \n",
       "4   Kingfisher Garden  fb581ad122d260941757c5a2b1ed1a42108d632f   \n",
       "\n",
       "               track_name  \n",
       "0       Doubtful Anteater  \n",
       "1     Heartbreaking Louse  \n",
       "2         Watery Tortoise  \n",
       "3           Nutritious Ox  \n",
       "4  Foregoing Umbrellabird  "
      ]
     },
     "execution_count": 7,
     "metadata": {},
     "output_type": "execute_result"
    }
   ],
   "source": [
    "tracks.head()"
   ]
  },
  {
   "cell_type": "markdown",
   "metadata": {},
   "source": [
    "### Users"
   ]
  },
  {
   "cell_type": "code",
   "execution_count": 8,
   "metadata": {},
   "outputs": [
    {
     "data": {
      "text/html": [
       "<div>\n",
       "<style scoped>\n",
       "    .dataframe tbody tr th:only-of-type {\n",
       "        vertical-align: middle;\n",
       "    }\n",
       "\n",
       "    .dataframe tbody tr th {\n",
       "        vertical-align: top;\n",
       "    }\n",
       "\n",
       "    .dataframe thead th {\n",
       "        text-align: right;\n",
       "    }\n",
       "</style>\n",
       "<table border=\"1\" class=\"dataframe\">\n",
       "  <thead>\n",
       "    <tr style=\"text-align: right;\">\n",
       "      <th></th>\n",
       "      <th>access</th>\n",
       "      <th>birth_year</th>\n",
       "      <th>country</th>\n",
       "      <th>gender</th>\n",
       "      <th>user_id</th>\n",
       "    </tr>\n",
       "  </thead>\n",
       "  <tbody>\n",
       "    <tr>\n",
       "      <th>0</th>\n",
       "      <td>free</td>\n",
       "      <td>1989</td>\n",
       "      <td>8</td>\n",
       "      <td>female</td>\n",
       "      <td>093449f2282b4e4793948bbc3e9f1fd7278c0c49</td>\n",
       "    </tr>\n",
       "    <tr>\n",
       "      <th>1</th>\n",
       "      <td>premium</td>\n",
       "      <td>2001</td>\n",
       "      <td>4</td>\n",
       "      <td>female</td>\n",
       "      <td>3e9603e5ab69c5cfe14dcc1954c46cd849940b24</td>\n",
       "    </tr>\n",
       "    <tr>\n",
       "      <th>2</th>\n",
       "      <td>premium</td>\n",
       "      <td>1988</td>\n",
       "      <td>52</td>\n",
       "      <td>female</td>\n",
       "      <td>c12f6f2784787619d91f61cf215480b70d47f36e</td>\n",
       "    </tr>\n",
       "    <tr>\n",
       "      <th>3</th>\n",
       "      <td>premium</td>\n",
       "      <td>1995</td>\n",
       "      <td>16</td>\n",
       "      <td>female</td>\n",
       "      <td>d55e6dc8e7fdd87d42b639ed27ca95795738308b</td>\n",
       "    </tr>\n",
       "    <tr>\n",
       "      <th>4</th>\n",
       "      <td>premium</td>\n",
       "      <td>1996</td>\n",
       "      <td>44</td>\n",
       "      <td>female</td>\n",
       "      <td>6b1867e55d95cd39f0b3eac38518fd11572e732f</td>\n",
       "    </tr>\n",
       "  </tbody>\n",
       "</table>\n",
       "</div>"
      ],
      "text/plain": [
       "    access birth_year  country  gender  \\\n",
       "0     free       1989        8  female   \n",
       "1  premium       2001        4  female   \n",
       "2  premium       1988       52  female   \n",
       "3  premium       1995       16  female   \n",
       "4  premium       1996       44  female   \n",
       "\n",
       "                                    user_id  \n",
       "0  093449f2282b4e4793948bbc3e9f1fd7278c0c49  \n",
       "1  3e9603e5ab69c5cfe14dcc1954c46cd849940b24  \n",
       "2  c12f6f2784787619d91f61cf215480b70d47f36e  \n",
       "3  d55e6dc8e7fdd87d42b639ed27ca95795738308b  \n",
       "4  6b1867e55d95cd39f0b3eac38518fd11572e732f  "
      ]
     },
     "execution_count": 8,
     "metadata": {},
     "output_type": "execute_result"
    }
   ],
   "source": [
    "users.head()"
   ]
  },
  {
   "cell_type": "code",
   "execution_count": 9,
   "metadata": {},
   "outputs": [
    {
     "data": {
      "text/plain": [
       "access        object\n",
       "birth_year    object\n",
       "country        int64\n",
       "gender        object\n",
       "user_id       object\n",
       "dtype: object"
      ]
     },
     "execution_count": 9,
     "metadata": {},
     "output_type": "execute_result"
    }
   ],
   "source": [
    "users.dtypes"
   ]
  },
  {
   "cell_type": "code",
   "execution_count": 10,
   "metadata": {},
   "outputs": [],
   "source": [
    "# set birth_year to numeric and country to categorical\n",
    "users['birth_year'] = pd.to_numeric(users['birth_year'], errors='coerce')\n",
    "users['country'] = users['country'].astype(object)"
   ]
  },
  {
   "cell_type": "code",
   "execution_count": 11,
   "metadata": {},
   "outputs": [],
   "source": [
    "# create age column\n",
    "users['age'] = 2017 - users['birth_year']"
   ]
  },
  {
   "cell_type": "code",
   "execution_count": 12,
   "metadata": {},
   "outputs": [
    {
     "data": {
      "text/plain": [
       "<matplotlib.axes._subplots.AxesSubplot at 0x1a0ff98860>"
      ]
     },
     "execution_count": 12,
     "metadata": {},
     "output_type": "execute_result"
    },
    {
     "data": {
      "image/png": "[encoded data removed]",
      "text/plain": [
       "<matplotlib.figure.Figure at 0x1a10166fd0>"
      ]
     },
     "metadata": {},
     "output_type": "display_data"
    }
   ],
   "source": [
    "users['age'].hist()"
   ]
  },
  {
   "cell_type": "markdown",
   "metadata": {},
   "source": [
    "### Streams"
   ]
  },
  {
   "cell_type": "code",
   "execution_count": 13,
   "metadata": {
    "scrolled": false
   },
   "outputs": [
    {
     "data": {
      "text/html": [
       "<div>\n",
       "<style scoped>\n",
       "    .dataframe tbody tr th:only-of-type {\n",
       "        vertical-align: middle;\n",
       "    }\n",
       "\n",
       "    .dataframe tbody tr th {\n",
       "        vertical-align: top;\n",
       "    }\n",
       "\n",
       "    .dataframe thead th {\n",
       "        text-align: right;\n",
       "    }\n",
       "</style>\n",
       "<table border=\"1\" class=\"dataframe\">\n",
       "  <thead>\n",
       "    <tr style=\"text-align: right;\">\n",
       "      <th></th>\n",
       "      <th>device_type</th>\n",
       "      <th>length</th>\n",
       "      <th>os</th>\n",
       "      <th>timestamp</th>\n",
       "      <th>track_id</th>\n",
       "      <th>user_id</th>\n",
       "    </tr>\n",
       "  </thead>\n",
       "  <tbody>\n",
       "    <tr>\n",
       "      <th>0</th>\n",
       "      <td>mobile</td>\n",
       "      <td>136</td>\n",
       "      <td>iOS</td>\n",
       "      <td>1504923300000</td>\n",
       "      <td>c43ac11b86c603e40aad9a0fbe72d192c0c51ded</td>\n",
       "      <td>3db57275059923d98119850a6233d3c609a171a5</td>\n",
       "    </tr>\n",
       "    <tr>\n",
       "      <th>1</th>\n",
       "      <td>desktop</td>\n",
       "      <td>60</td>\n",
       "      <td>Browser</td>\n",
       "      <td>1504951200000</td>\n",
       "      <td>eee087bddc7db49cde2d43df7a04f3975dff4a78</td>\n",
       "      <td>0495eb11e3ca80c0289d3a08b5c60f0227e12314</td>\n",
       "    </tr>\n",
       "    <tr>\n",
       "      <th>2</th>\n",
       "      <td>mobile</td>\n",
       "      <td>191</td>\n",
       "      <td>iOS</td>\n",
       "      <td>1504944900000</td>\n",
       "      <td>45e8fe7c02519b99b9284717cd3488eab2ef798e</td>\n",
       "      <td>b3d9fb538674878162e5a93566195daf878723db</td>\n",
       "    </tr>\n",
       "    <tr>\n",
       "      <th>3</th>\n",
       "      <td>desktop</td>\n",
       "      <td>268</td>\n",
       "      <td>other</td>\n",
       "      <td>1504980900000</td>\n",
       "      <td>eb1016ee12dc5a3ada044b7dacb716049ed121c8</td>\n",
       "      <td>4831658d8f436e8c6ecf29984c405521de26e654</td>\n",
       "    </tr>\n",
       "    <tr>\n",
       "      <th>4</th>\n",
       "      <td>mobile</td>\n",
       "      <td>212</td>\n",
       "      <td>Android</td>\n",
       "      <td>1504916100000</td>\n",
       "      <td>863af142e7604488cfd8f2245b65c9e6cafcd201</td>\n",
       "      <td>e1a1bb65848f54f266273caad9a327d13397889f</td>\n",
       "    </tr>\n",
       "  </tbody>\n",
       "</table>\n",
       "</div>"
      ],
      "text/plain": [
       "  device_type  length       os      timestamp  \\\n",
       "0      mobile     136      iOS  1504923300000   \n",
       "1     desktop      60  Browser  1504951200000   \n",
       "2      mobile     191      iOS  1504944900000   \n",
       "3     desktop     268    other  1504980900000   \n",
       "4      mobile     212  Android  1504916100000   \n",
       "\n",
       "                                   track_id  \\\n",
       "0  c43ac11b86c603e40aad9a0fbe72d192c0c51ded   \n",
       "1  eee087bddc7db49cde2d43df7a04f3975dff4a78   \n",
       "2  45e8fe7c02519b99b9284717cd3488eab2ef798e   \n",
       "3  eb1016ee12dc5a3ada044b7dacb716049ed121c8   \n",
       "4  863af142e7604488cfd8f2245b65c9e6cafcd201   \n",
       "\n",
       "                                    user_id  \n",
       "0  3db57275059923d98119850a6233d3c609a171a5  \n",
       "1  0495eb11e3ca80c0289d3a08b5c60f0227e12314  \n",
       "2  b3d9fb538674878162e5a93566195daf878723db  \n",
       "3  4831658d8f436e8c6ecf29984c405521de26e654  \n",
       "4  e1a1bb65848f54f266273caad9a327d13397889f  "
      ]
     },
     "execution_count": 13,
     "metadata": {},
     "output_type": "execute_result"
    }
   ],
   "source": [
    "streams.head()"
   ]
  },
  {
   "cell_type": "code",
   "execution_count": 14,
   "metadata": {},
   "outputs": [
    {
     "data": {
      "text/plain": [
       "0   2017-09-09 07:45:00\n",
       "1   2017-09-09 15:30:00\n",
       "2   2017-09-09 13:45:00\n",
       "3   2017-09-09 23:45:00\n",
       "4   2017-09-09 05:45:00\n",
       "Name: timestamp, dtype: datetime64[ns]"
      ]
     },
     "execution_count": 14,
     "metadata": {},
     "output_type": "execute_result"
    }
   ],
   "source": [
    "# Convert from milliseconds to seconds\n",
    "streams['timestamp'] = streams['timestamp']/1000.0\n",
    "# Convert from UNIX epoch to date time format\n",
    "streams['timestamp'] = streams['timestamp'].apply(datetime.datetime.fromtimestamp)\n",
    "streams['timestamp'].head()"
   ]
  },
  {
   "cell_type": "markdown",
   "metadata": {},
   "source": [
    "## Merge data into a single dataframe and explore"
   ]
  },
  {
   "cell_type": "code",
   "execution_count": 15,
   "metadata": {},
   "outputs": [],
   "source": [
    "dat = pd.merge(streams, tracks, how='left', on='track_id')\n",
    "dat = pd.merge(dat, users, how='left', on='user_id')"
   ]
  },
  {
   "cell_type": "markdown",
   "metadata": {},
   "source": [
    "Define label encoder function"
   ]
  },
  {
   "cell_type": "code",
   "execution_count": 16,
   "metadata": {},
   "outputs": [],
   "source": [
    "def lab_encode(input):\n",
    "    le = preprocessing.LabelEncoder()\n",
    "    le.fit(input)\n",
    "    return le.transform(input).astype(object)"
   ]
  },
  {
   "cell_type": "markdown",
   "metadata": {},
   "source": [
    "Encode hashed columns with numerical labels"
   ]
  },
  {
   "cell_type": "code",
   "execution_count": 17,
   "metadata": {},
   "outputs": [
    {
     "data": {
      "text/html": [
       "<div>\n",
       "<style scoped>\n",
       "    .dataframe tbody tr th:only-of-type {\n",
       "        vertical-align: middle;\n",
       "    }\n",
       "\n",
       "    .dataframe tbody tr th {\n",
       "        vertical-align: top;\n",
       "    }\n",
       "\n",
       "    .dataframe thead th {\n",
       "        text-align: right;\n",
       "    }\n",
       "</style>\n",
       "<table border=\"1\" class=\"dataframe\">\n",
       "  <thead>\n",
       "    <tr style=\"text-align: right;\">\n",
       "      <th></th>\n",
       "      <th>device_type</th>\n",
       "      <th>length</th>\n",
       "      <th>os</th>\n",
       "      <th>timestamp</th>\n",
       "      <th>track_id</th>\n",
       "      <th>user_id</th>\n",
       "      <th>album_artist</th>\n",
       "      <th>album_code</th>\n",
       "      <th>album_name</th>\n",
       "      <th>track_name</th>\n",
       "      <th>access</th>\n",
       "      <th>birth_year</th>\n",
       "      <th>country</th>\n",
       "      <th>gender</th>\n",
       "      <th>age</th>\n",
       "    </tr>\n",
       "  </thead>\n",
       "  <tbody>\n",
       "    <tr>\n",
       "      <th>0</th>\n",
       "      <td>mobile</td>\n",
       "      <td>136</td>\n",
       "      <td>iOS</td>\n",
       "      <td>2017-09-09 07:45:00</td>\n",
       "      <td>64035</td>\n",
       "      <td>430695</td>\n",
       "      <td>Cliff Creech</td>\n",
       "      <td>11420</td>\n",
       "      <td>Binturong Brothers</td>\n",
       "      <td>Bright Antelope</td>\n",
       "      <td>free</td>\n",
       "      <td>1956.0</td>\n",
       "      <td>59</td>\n",
       "      <td>male</td>\n",
       "      <td>61.0</td>\n",
       "    </tr>\n",
       "    <tr>\n",
       "      <th>1</th>\n",
       "      <td>desktop</td>\n",
       "      <td>60</td>\n",
       "      <td>Browser</td>\n",
       "      <td>2017-09-09 15:30:00</td>\n",
       "      <td>77961</td>\n",
       "      <td>31824</td>\n",
       "      <td>Ginette Rowley</td>\n",
       "      <td>2927</td>\n",
       "      <td>Llama Wing</td>\n",
       "      <td>Nice Jellyfish</td>\n",
       "      <td>free</td>\n",
       "      <td>1978.0</td>\n",
       "      <td>43</td>\n",
       "      <td>male</td>\n",
       "      <td>39.0</td>\n",
       "    </tr>\n",
       "    <tr>\n",
       "      <th>2</th>\n",
       "      <td>mobile</td>\n",
       "      <td>191</td>\n",
       "      <td>iOS</td>\n",
       "      <td>2017-09-09 13:45:00</td>\n",
       "      <td>22853</td>\n",
       "      <td>1256198</td>\n",
       "      <td>Cyrus Ramey</td>\n",
       "      <td>6869</td>\n",
       "      <td>Caterpillar Doctor</td>\n",
       "      <td>Habitual Starling</td>\n",
       "      <td>premium</td>\n",
       "      <td>2001.0</td>\n",
       "      <td>16</td>\n",
       "      <td>female</td>\n",
       "      <td>16.0</td>\n",
       "    </tr>\n",
       "    <tr>\n",
       "      <th>3</th>\n",
       "      <td>desktop</td>\n",
       "      <td>268</td>\n",
       "      <td>other</td>\n",
       "      <td>2017-09-09 23:45:00</td>\n",
       "      <td>76755</td>\n",
       "      <td>504157</td>\n",
       "      <td>Yee Hahn</td>\n",
       "      <td>16976</td>\n",
       "      <td>Stork Spoon</td>\n",
       "      <td>Woebegone Markhor</td>\n",
       "      <td>premium</td>\n",
       "      <td>1959.0</td>\n",
       "      <td>43</td>\n",
       "      <td>male</td>\n",
       "      <td>58.0</td>\n",
       "    </tr>\n",
       "    <tr>\n",
       "      <th>4</th>\n",
       "      <td>mobile</td>\n",
       "      <td>212</td>\n",
       "      <td>Android</td>\n",
       "      <td>2017-09-09 05:45:00</td>\n",
       "      <td>43741</td>\n",
       "      <td>1575733</td>\n",
       "      <td>Arnita Reaves</td>\n",
       "      <td>21357</td>\n",
       "      <td>Falcon Line</td>\n",
       "      <td>Irate Birman</td>\n",
       "      <td>premium</td>\n",
       "      <td>1996.0</td>\n",
       "      <td>59</td>\n",
       "      <td>female</td>\n",
       "      <td>21.0</td>\n",
       "    </tr>\n",
       "  </tbody>\n",
       "</table>\n",
       "</div>"
      ],
      "text/plain": [
       "  device_type  length       os           timestamp track_id  user_id  \\\n",
       "0      mobile     136      iOS 2017-09-09 07:45:00    64035   430695   \n",
       "1     desktop      60  Browser 2017-09-09 15:30:00    77961    31824   \n",
       "2      mobile     191      iOS 2017-09-09 13:45:00    22853  1256198   \n",
       "3     desktop     268    other 2017-09-09 23:45:00    76755   504157   \n",
       "4      mobile     212  Android 2017-09-09 05:45:00    43741  1575733   \n",
       "\n",
       "     album_artist album_code          album_name         track_name   access  \\\n",
       "0    Cliff Creech      11420  Binturong Brothers    Bright Antelope     free   \n",
       "1  Ginette Rowley       2927          Llama Wing     Nice Jellyfish     free   \n",
       "2     Cyrus Ramey       6869  Caterpillar Doctor  Habitual Starling  premium   \n",
       "3        Yee Hahn      16976         Stork Spoon  Woebegone Markhor  premium   \n",
       "4   Arnita Reaves      21357         Falcon Line       Irate Birman  premium   \n",
       "\n",
       "   birth_year country  gender   age  \n",
       "0      1956.0      59    male  61.0  \n",
       "1      1978.0      43    male  39.0  \n",
       "2      2001.0      16  female  16.0  \n",
       "3      1959.0      43    male  58.0  \n",
       "4      1996.0      59  female  21.0  "
      ]
     },
     "execution_count": 17,
     "metadata": {},
     "output_type": "execute_result"
    }
   ],
   "source": [
    "dat['track_id'] = lab_encode(dat['track_id'])\n",
    "dat['user_id'] = lab_encode(dat['user_id'])\n",
    "dat['album_code'] = lab_encode(dat['album_code'])\n",
    "dat.head()"
   ]
  },
  {
   "cell_type": "code",
   "execution_count": 18,
   "metadata": {},
   "outputs": [
    {
     "name": "stdout",
     "output_type": "stream",
     "text": [
      "<class 'pandas.core.frame.DataFrame'>\n",
      "Int64Index: 4313582 entries, 0 to 4313581\n",
      "Data columns (total 15 columns):\n",
      "device_type     object\n",
      "length          int64\n",
      "os              object\n",
      "timestamp       datetime64[ns]\n",
      "track_id        object\n",
      "user_id         object\n",
      "album_artist    object\n",
      "album_code      object\n",
      "album_name      object\n",
      "track_name      object\n",
      "access          object\n",
      "birth_year      float64\n",
      "country         object\n",
      "gender          object\n",
      "age             float64\n",
      "dtypes: datetime64[ns](1), float64(2), int64(1), object(11)\n",
      "memory usage: 526.6+ MB\n"
     ]
    }
   ],
   "source": [
    "dat.info()"
   ]
  },
  {
   "cell_type": "markdown",
   "metadata": {},
   "source": [
    "Descriptives for numerical variables"
   ]
  },
  {
   "cell_type": "code",
   "execution_count": 19,
   "metadata": {},
   "outputs": [
    {
     "data": {
      "text/html": [
       "<div>\n",
       "<style scoped>\n",
       "    .dataframe tbody tr th:only-of-type {\n",
       "        vertical-align: middle;\n",
       "    }\n",
       "\n",
       "    .dataframe tbody tr th {\n",
       "        vertical-align: top;\n",
       "    }\n",
       "\n",
       "    .dataframe thead th {\n",
       "        text-align: right;\n",
       "    }\n",
       "</style>\n",
       "<table border=\"1\" class=\"dataframe\">\n",
       "  <thead>\n",
       "    <tr style=\"text-align: right;\">\n",
       "      <th></th>\n",
       "      <th>length</th>\n",
       "      <th>birth_year</th>\n",
       "      <th>age</th>\n",
       "    </tr>\n",
       "  </thead>\n",
       "  <tbody>\n",
       "    <tr>\n",
       "      <th>count</th>\n",
       "      <td>4.313582e+06</td>\n",
       "      <td>4.300096e+06</td>\n",
       "      <td>4.300096e+06</td>\n",
       "    </tr>\n",
       "    <tr>\n",
       "      <th>mean</th>\n",
       "      <td>1.727955e+02</td>\n",
       "      <td>1.986484e+03</td>\n",
       "      <td>3.051627e+01</td>\n",
       "    </tr>\n",
       "    <tr>\n",
       "      <th>std</th>\n",
       "      <td>8.864851e+01</td>\n",
       "      <td>1.367262e+01</td>\n",
       "      <td>1.367262e+01</td>\n",
       "    </tr>\n",
       "    <tr>\n",
       "      <th>min</th>\n",
       "      <td>3.000000e+01</td>\n",
       "      <td>1.891000e+03</td>\n",
       "      <td>0.000000e+00</td>\n",
       "    </tr>\n",
       "    <tr>\n",
       "      <th>25%</th>\n",
       "      <td>1.160000e+02</td>\n",
       "      <td>1.981000e+03</td>\n",
       "      <td>2.100000e+01</td>\n",
       "    </tr>\n",
       "    <tr>\n",
       "      <th>50%</th>\n",
       "      <td>1.720000e+02</td>\n",
       "      <td>1.990000e+03</td>\n",
       "      <td>2.700000e+01</td>\n",
       "    </tr>\n",
       "    <tr>\n",
       "      <th>75%</th>\n",
       "      <td>2.160000e+02</td>\n",
       "      <td>1.996000e+03</td>\n",
       "      <td>3.600000e+01</td>\n",
       "    </tr>\n",
       "    <tr>\n",
       "      <th>max</th>\n",
       "      <td>9.000000e+02</td>\n",
       "      <td>2.017000e+03</td>\n",
       "      <td>1.260000e+02</td>\n",
       "    </tr>\n",
       "  </tbody>\n",
       "</table>\n",
       "</div>"
      ],
      "text/plain": [
       "             length    birth_year           age\n",
       "count  4.313582e+06  4.300096e+06  4.300096e+06\n",
       "mean   1.727955e+02  1.986484e+03  3.051627e+01\n",
       "std    8.864851e+01  1.367262e+01  1.367262e+01\n",
       "min    3.000000e+01  1.891000e+03  0.000000e+00\n",
       "25%    1.160000e+02  1.981000e+03  2.100000e+01\n",
       "50%    1.720000e+02  1.990000e+03  2.700000e+01\n",
       "75%    2.160000e+02  1.996000e+03  3.600000e+01\n",
       "max    9.000000e+02  2.017000e+03  1.260000e+02"
      ]
     },
     "execution_count": 19,
     "metadata": {},
     "output_type": "execute_result"
    }
   ],
   "source": [
    "dat.describe()"
   ]
  },
  {
   "cell_type": "markdown",
   "metadata": {},
   "source": [
    "Look at counts and unique values"
   ]
  },
  {
   "cell_type": "code",
   "execution_count": 20,
   "metadata": {},
   "outputs": [
    {
     "data": {
      "text/html": [
       "<div>\n",
       "<style scoped>\n",
       "    .dataframe tbody tr th:only-of-type {\n",
       "        vertical-align: middle;\n",
       "    }\n",
       "\n",
       "    .dataframe tbody tr th {\n",
       "        vertical-align: top;\n",
       "    }\n",
       "\n",
       "    .dataframe thead th {\n",
       "        text-align: right;\n",
       "    }\n",
       "</style>\n",
       "<table border=\"1\" class=\"dataframe\">\n",
       "  <thead>\n",
       "    <tr style=\"text-align: right;\">\n",
       "      <th></th>\n",
       "      <th>device_type</th>\n",
       "      <th>length</th>\n",
       "      <th>os</th>\n",
       "      <th>timestamp</th>\n",
       "      <th>track_id</th>\n",
       "      <th>user_id</th>\n",
       "      <th>album_artist</th>\n",
       "      <th>album_code</th>\n",
       "      <th>album_name</th>\n",
       "      <th>track_name</th>\n",
       "      <th>access</th>\n",
       "      <th>birth_year</th>\n",
       "      <th>country</th>\n",
       "      <th>gender</th>\n",
       "      <th>age</th>\n",
       "    </tr>\n",
       "  </thead>\n",
       "  <tbody>\n",
       "    <tr>\n",
       "      <th>count</th>\n",
       "      <td>4313582</td>\n",
       "      <td>4313582</td>\n",
       "      <td>4313582</td>\n",
       "      <td>4313582</td>\n",
       "      <td>4313582</td>\n",
       "      <td>4313582</td>\n",
       "      <td>4313582</td>\n",
       "      <td>4313582</td>\n",
       "      <td>4313582</td>\n",
       "      <td>4313582</td>\n",
       "      <td>4313582</td>\n",
       "      <td>4300096.0</td>\n",
       "      <td>4313582</td>\n",
       "      <td>4313582</td>\n",
       "      <td>4300096.0</td>\n",
       "    </tr>\n",
       "    <tr>\n",
       "      <th>unique</th>\n",
       "      <td>3</td>\n",
       "      <td>870</td>\n",
       "      <td>8</td>\n",
       "      <td>96</td>\n",
       "      <td>83426</td>\n",
       "      <td>1787756</td>\n",
       "      <td>16915</td>\n",
       "      <td>24913</td>\n",
       "      <td>23201</td>\n",
       "      <td>70979</td>\n",
       "      <td>3</td>\n",
       "      <td>120.0</td>\n",
       "      <td>61</td>\n",
       "      <td>3</td>\n",
       "      <td>120.0</td>\n",
       "    </tr>\n",
       "    <tr>\n",
       "      <th>top</th>\n",
       "      <td>mobile</td>\n",
       "      <td>157</td>\n",
       "      <td>iOS</td>\n",
       "      <td>2017-09-09 22:30:00</td>\n",
       "      <td>67499</td>\n",
       "      <td>961141</td>\n",
       "      <td>Malcolm Crook</td>\n",
       "      <td>18722</td>\n",
       "      <td>Hedgehog Stone</td>\n",
       "      <td>Literate Frigatebird</td>\n",
       "      <td>premium</td>\n",
       "      <td>1990.0</td>\n",
       "      <td>52</td>\n",
       "      <td>male</td>\n",
       "      <td>27.0</td>\n",
       "    </tr>\n",
       "    <tr>\n",
       "      <th>freq</th>\n",
       "      <td>2419128</td>\n",
       "      <td>199937</td>\n",
       "      <td>1672335</td>\n",
       "      <td>66642</td>\n",
       "      <td>232564</td>\n",
       "      <td>3310</td>\n",
       "      <td>636055</td>\n",
       "      <td>232564</td>\n",
       "      <td>232564</td>\n",
       "      <td>232564</td>\n",
       "      <td>3111035</td>\n",
       "      <td>231232.0</td>\n",
       "      <td>1047328</td>\n",
       "      <td>2487230</td>\n",
       "      <td>231232.0</td>\n",
       "    </tr>\n",
       "  </tbody>\n",
       "</table>\n",
       "</div>"
      ],
      "text/plain": [
       "       device_type   length       os            timestamp  track_id  user_id  \\\n",
       "count      4313582  4313582  4313582              4313582   4313582  4313582   \n",
       "unique           3      870        8                   96     83426  1787756   \n",
       "top         mobile      157      iOS  2017-09-09 22:30:00     67499   961141   \n",
       "freq       2419128   199937  1672335                66642    232564     3310   \n",
       "\n",
       "         album_artist  album_code      album_name            track_name  \\\n",
       "count         4313582     4313582         4313582               4313582   \n",
       "unique          16915       24913           23201                 70979   \n",
       "top     Malcolm Crook       18722  Hedgehog Stone  Literate Frigatebird   \n",
       "freq           636055      232564          232564                232564   \n",
       "\n",
       "         access  birth_year  country   gender        age  \n",
       "count   4313582   4300096.0  4313582  4313582  4300096.0  \n",
       "unique        3       120.0       61        3      120.0  \n",
       "top     premium      1990.0       52     male       27.0  \n",
       "freq    3111035    231232.0  1047328  2487230   231232.0  "
      ]
     },
     "execution_count": 20,
     "metadata": {},
     "output_type": "execute_result"
    }
   ],
   "source": [
    "dat[:].astype('object').describe()"
   ]
  },
  {
   "cell_type": "markdown",
   "metadata": {},
   "source": [
    "### Histograms"
   ]
  },
  {
   "cell_type": "code",
   "execution_count": 21,
   "metadata": {},
   "outputs": [
    {
     "data": {
      "text/plain": [
       "<matplotlib.axes._subplots.AxesSubplot at 0x1a11def240>"
      ]
     },
     "execution_count": 21,
     "metadata": {},
     "output_type": "execute_result"
    },
    {
     "data": {
      "image/png": "[encoded data removed]",
      "text/plain": [
       "<matplotlib.figure.Figure at 0x1a0fcce550>"
      ]
     },
     "metadata": {},
     "output_type": "display_data"
    }
   ],
   "source": [
    "dat['length'].hist()"
   ]
  },
  {
   "cell_type": "code",
   "execution_count": 22,
   "metadata": {},
   "outputs": [
    {
     "data": {
      "text/plain": [
       "<matplotlib.axes._subplots.AxesSubplot at 0x1a0fcce438>"
      ]
     },
     "execution_count": 22,
     "metadata": {},
     "output_type": "execute_result"
    },
    {
     "data": {
      "image/png": "[encoded data removed]",
      "text/plain": [
       "<matplotlib.figure.Figure at 0x1aeaacb390>"
      ]
     },
     "metadata": {},
     "output_type": "display_data"
    }
   ],
   "source": [
    "dat['timestamp'].dt.hour.hist()"
   ]
  },
  {
   "cell_type": "code",
   "execution_count": 23,
   "metadata": {},
   "outputs": [
    {
     "data": {
      "text/plain": [
       "<matplotlib.axes._subplots.AxesSubplot at 0x1a3af23a20>"
      ]
     },
     "execution_count": 23,
     "metadata": {},
     "output_type": "execute_result"
    },
    {
     "data": {
      "image/png": "[encoded data removed]",
      "text/plain": [
       "<matplotlib.figure.Figure at 0x1ae85fc128>"
      ]
     },
     "metadata": {},
     "output_type": "display_data"
    }
   ],
   "source": [
    "dat['device_type'].hist()"
   ]
  },
  {
   "cell_type": "code",
   "execution_count": 24,
   "metadata": {},
   "outputs": [
    {
     "data": {
      "text/plain": [
       "<matplotlib.axes._subplots.AxesSubplot at 0x1ad58ce898>"
      ]
     },
     "execution_count": 24,
     "metadata": {},
     "output_type": "execute_result"
    },
    {
     "data": {
      "image/png": "[encoded data removed]",
      "text/plain": [
       "<matplotlib.figure.Figure at 0x1acc511e48>"
      ]
     },
     "metadata": {},
     "output_type": "display_data"
    }
   ],
   "source": [
    "dat['os'].hist()"
   ]
  },
  {
   "cell_type": "code",
   "execution_count": 25,
   "metadata": {},
   "outputs": [
    {
     "data": {
      "text/plain": [
       "<matplotlib.axes._subplots.AxesSubplot at 0x1ad58931d0>"
      ]
     },
     "execution_count": 25,
     "metadata": {},
     "output_type": "execute_result"
    },
    {
     "data": {
      "image/png": "[encoded data removed]",
      "text/plain": [
       "<matplotlib.figure.Figure at 0x1ad587f908>"
      ]
     },
     "metadata": {},
     "output_type": "display_data"
    }
   ],
   "source": [
    "dat['access'].hist()"
   ]
  },
  {
   "cell_type": "code",
   "execution_count": 26,
   "metadata": {},
   "outputs": [
    {
     "data": {
      "text/plain": [
       "<matplotlib.axes._subplots.AxesSubplot at 0x1ac76c6978>"
      ]
     },
     "execution_count": 26,
     "metadata": {},
     "output_type": "execute_result"
    },
    {
     "data": {
      "image/png": "[encoded data removed]",
      "text/plain": [
       "<matplotlib.figure.Figure at 0x1ac76e2550>"
      ]
     },
     "metadata": {},
     "output_type": "display_data"
    }
   ],
   "source": [
    "dat['age'].hist()"
   ]
  },
  {
   "cell_type": "code",
   "execution_count": 27,
   "metadata": {},
   "outputs": [
    {
     "data": {
      "text/plain": [
       "<matplotlib.axes._subplots.AxesSubplot at 0x1a90968c88>"
      ]
     },
     "execution_count": 27,
     "metadata": {},
     "output_type": "execute_result"
    },
    {
     "data": {
      "image/png": "[encoded data removed]",
      "text/plain": [
       "<matplotlib.figure.Figure at 0x1a90903e10>"
      ]
     },
     "metadata": {},
     "output_type": "display_data"
    }
   ],
   "source": [
    "dat['gender'].hist()"
   ]
  },
  {
   "cell_type": "markdown",
   "metadata": {},
   "source": [
    "### Factors that could predict streaming fraud\n",
    "\n",
    "<ul>\n",
    "    <li>Same user_id (or several user_ids) with some type of consistently non-normal listening behavior.</li>\n",
    "    <li>Make clusters of different types of user_ids behavior</li>\n",
    "    <li>Find the user_ids that have \"non-normal\" or atypical behavior</li>\n",
    "</ul>\n",
    "\n",
    "### \"Non-normal\" or atypical user behavior\n",
    "\n",
    "<ul>\n",
    "    <li>Listening to very narrow range of artists</li>\n",
    "    <li>Listening to tracks in a manner that's too uniform</li>\n",
    "    <li>Look at length variable</li>\n",
    "    <li>Look at time stamp</li>\n",
    "</ul>\n",
    "\n",
    "### Flag user_id outliers\n",
    "\n",
    "<ul>\n",
    "    <li>By age</li>\n",
    "    <li>By country</li>\n",
    "</ul>"
   ]
  },
  {
   "cell_type": "markdown",
   "metadata": {},
   "source": [
    "### Aggregates\n",
    "<ul>\n",
    "    <li>Run aggregate stats by user_ids.</li>\n",
    "    <li>Do some kind of clustering analysis based on user_id stats.</li>\n",
    "    <li>Compute range for each user_id</li>\n",
    "    <li>Range of length and time_stamp for each user_id</li>\n",
    "    <li>Repeated track_id for each user_id (unusually large repeats)</li>\n",
    "    <li>Repeated album artist and album code for each user_id (lack of variety might be indication)</li>\n",
    "    <li>Repeated album artist and album code for each user_id (unusually large repeats)</li>\n",
    "</ul>"
   ]
  },
  {
   "cell_type": "code",
   "execution_count": 95,
   "metadata": {},
   "outputs": [
    {
     "data": {
      "text/plain": [
       "2"
      ]
     },
     "execution_count": 95,
     "metadata": {},
     "output_type": "execute_result"
    }
   ],
   "source": [
    "dat[\"length\"][dat[\"user_id\"] == 961141].nunique()"
   ]
  },
  {
   "cell_type": "markdown",
   "metadata": {},
   "source": [
    "## Feature engineering: create aggregate statistics grouped by user_id\n",
    "\n",
    "Calculate number of unique tracks listened to by each user_id as well.\n",
    "\n",
    "Then look at the ratio of unique tracks over total tracks. (same thing for album)"
   ]
  },
  {
   "cell_type": "code",
   "execution_count": 96,
   "metadata": {},
   "outputs": [
    {
     "data": {
      "text/html": [
       "<div>\n",
       "<style scoped>\n",
       "    .dataframe tbody tr th:only-of-type {\n",
       "        vertical-align: middle;\n",
       "    }\n",
       "\n",
       "    .dataframe tbody tr th {\n",
       "        vertical-align: top;\n",
       "    }\n",
       "\n",
       "    .dataframe thead th {\n",
       "        text-align: right;\n",
       "    }\n",
       "</style>\n",
       "<table border=\"1\" class=\"dataframe\">\n",
       "  <thead>\n",
       "    <tr style=\"text-align: right;\">\n",
       "      <th></th>\n",
       "      <th>time.n</th>\n",
       "      <th>time.range</th>\n",
       "      <th>len.nuniq</th>\n",
       "      <th>len.sum</th>\n",
       "      <th>len.min</th>\n",
       "      <th>len.max</th>\n",
       "      <th>len.range</th>\n",
       "      <th>track.nuniq</th>\n",
       "      <th>album.nuniq</th>\n",
       "      <th>dev_type</th>\n",
       "      <th>os</th>\n",
       "      <th>access</th>\n",
       "      <th>birth_year</th>\n",
       "      <th>country</th>\n",
       "      <th>gender</th>\n",
       "      <th>age</th>\n",
       "    </tr>\n",
       "    <tr>\n",
       "      <th>user_id</th>\n",
       "      <th></th>\n",
       "      <th></th>\n",
       "      <th></th>\n",
       "      <th></th>\n",
       "      <th></th>\n",
       "      <th></th>\n",
       "      <th></th>\n",
       "      <th></th>\n",
       "      <th></th>\n",
       "      <th></th>\n",
       "      <th></th>\n",
       "      <th></th>\n",
       "      <th></th>\n",
       "      <th></th>\n",
       "      <th></th>\n",
       "      <th></th>\n",
       "    </tr>\n",
       "  </thead>\n",
       "  <tbody>\n",
       "    <tr>\n",
       "      <th>0</th>\n",
       "      <td>1</td>\n",
       "      <td>00:00:00</td>\n",
       "      <td>1</td>\n",
       "      <td>191</td>\n",
       "      <td>191</td>\n",
       "      <td>191</td>\n",
       "      <td>0</td>\n",
       "      <td>1</td>\n",
       "      <td>1</td>\n",
       "      <td>desktop</td>\n",
       "      <td>Mac</td>\n",
       "      <td>premium</td>\n",
       "      <td>1993.0</td>\n",
       "      <td>15</td>\n",
       "      <td>male</td>\n",
       "      <td>24.0</td>\n",
       "    </tr>\n",
       "    <tr>\n",
       "      <th>1</th>\n",
       "      <td>1</td>\n",
       "      <td>00:00:00</td>\n",
       "      <td>1</td>\n",
       "      <td>177</td>\n",
       "      <td>177</td>\n",
       "      <td>177</td>\n",
       "      <td>0</td>\n",
       "      <td>1</td>\n",
       "      <td>1</td>\n",
       "      <td>mobile</td>\n",
       "      <td>iOS</td>\n",
       "      <td>premium</td>\n",
       "      <td>1994.0</td>\n",
       "      <td>43</td>\n",
       "      <td>male</td>\n",
       "      <td>23.0</td>\n",
       "    </tr>\n",
       "    <tr>\n",
       "      <th>2</th>\n",
       "      <td>1</td>\n",
       "      <td>00:00:00</td>\n",
       "      <td>1</td>\n",
       "      <td>165</td>\n",
       "      <td>165</td>\n",
       "      <td>165</td>\n",
       "      <td>0</td>\n",
       "      <td>1</td>\n",
       "      <td>1</td>\n",
       "      <td>mobile</td>\n",
       "      <td>Android</td>\n",
       "      <td>premium</td>\n",
       "      <td>1988.0</td>\n",
       "      <td>15</td>\n",
       "      <td>male</td>\n",
       "      <td>29.0</td>\n",
       "    </tr>\n",
       "    <tr>\n",
       "      <th>3</th>\n",
       "      <td>2</td>\n",
       "      <td>00:15:00</td>\n",
       "      <td>2</td>\n",
       "      <td>642</td>\n",
       "      <td>184</td>\n",
       "      <td>458</td>\n",
       "      <td>274</td>\n",
       "      <td>1</td>\n",
       "      <td>1</td>\n",
       "      <td>desktop</td>\n",
       "      <td>other</td>\n",
       "      <td>free</td>\n",
       "      <td>1986.0</td>\n",
       "      <td>40</td>\n",
       "      <td>male</td>\n",
       "      <td>31.0</td>\n",
       "    </tr>\n",
       "    <tr>\n",
       "      <th>4</th>\n",
       "      <td>2</td>\n",
       "      <td>01:00:00</td>\n",
       "      <td>2</td>\n",
       "      <td>424</td>\n",
       "      <td>165</td>\n",
       "      <td>259</td>\n",
       "      <td>94</td>\n",
       "      <td>2</td>\n",
       "      <td>2</td>\n",
       "      <td>desktop</td>\n",
       "      <td>Windows</td>\n",
       "      <td>premium</td>\n",
       "      <td>1990.0</td>\n",
       "      <td>43</td>\n",
       "      <td>female</td>\n",
       "      <td>27.0</td>\n",
       "    </tr>\n",
       "  </tbody>\n",
       "</table>\n",
       "</div>"
      ],
      "text/plain": [
       "         time.n time.range  len.nuniq  len.sum  len.min  len.max  len.range  \\\n",
       "user_id                                                                       \n",
       "0             1   00:00:00          1      191      191      191          0   \n",
       "1             1   00:00:00          1      177      177      177          0   \n",
       "2             1   00:00:00          1      165      165      165          0   \n",
       "3             2   00:15:00          2      642      184      458        274   \n",
       "4             2   01:00:00          2      424      165      259         94   \n",
       "\n",
       "         track.nuniq  album.nuniq dev_type       os   access  birth_year  \\\n",
       "user_id                                                                    \n",
       "0                  1            1  desktop      Mac  premium      1993.0   \n",
       "1                  1            1   mobile      iOS  premium      1994.0   \n",
       "2                  1            1   mobile  Android  premium      1988.0   \n",
       "3                  1            1  desktop    other     free      1986.0   \n",
       "4                  2            2  desktop  Windows  premium      1990.0   \n",
       "\n",
       "         country  gender   age  \n",
       "user_id                         \n",
       "0             15    male  24.0  \n",
       "1             43    male  23.0  \n",
       "2             15    male  29.0  \n",
       "3             40    male  31.0  \n",
       "4             43  female  27.0  "
      ]
     },
     "execution_count": 96,
     "metadata": {},
     "output_type": "execute_result"
    }
   ],
   "source": [
    "datByUser = dat.groupby('user_id').agg({'timestamp':[\"count\", lambda x: max(x) - min(x)],\n",
    "                            'length': [\"nunique\", sum, min, max, lambda x: max(x) - min(x)],\n",
    "                            'track_id': \"nunique\",\n",
    "                            'album_code': \"nunique\",\n",
    "                            'device_type': \"first\",\n",
    "                            'os': \"first\",\n",
    "                            'access': \"first\",\n",
    "                            'country': \"first\",\n",
    "                            'gender': \"first\",\n",
    "                            'age': \"first\"\n",
    "                           })\n",
    "# Drop one level of column index\n",
    "datByUser.columns = datByUser.columns.droplevel(level=0)\n",
    "# Rename columns\n",
    "datByUser.columns = [\"time.n\", \"time.range\", \"len.nuniq\", \"len.sum\", \"len.min\", \"len.max\", \"len.range\",\n",
    "                    \"track.nuniq\", \"album.nuniq\", \"dev_type\", \"os\", \"access\", \"country\", \"gender\", \"age\"                     \n",
    "                    ]\n",
    "datByUser.head()"
   ]
  },
  {
   "cell_type": "markdown",
   "metadata": {},
   "source": [
    "# Notes on the significance of each of the above columns\n",
    "<ul>\n",
    "    <li>time.n: number of different timestamps upon which streams were initiated. Larger number here could indicate a bot.</li>\n",
    "    <li>time.range: range of time between which all the streams were initiated. A really large range could indicate a bot as well, if they were actively playing tracks all day, for example.</li>\n",
    "    <li>len.min, max, range: Length of listening time would probably vary according to track, but if there was a uniform listening time for every track, this could be an obvious giveaway that it's a bot too. This could be manifested in a small or 0 len.range, while having a high time.n value, for example</li>\n",
    "    <li>track.range and album.range: large numbers don't really indicate anything here, but a small value (maybe 0) with high track count could indicate a bot that's only listening to a track or album to up the play count.</li>\n",
    "    <li>dev_type to age columns: These columns are probably less predictive of fraud since customers could put anything they want (unless things like age and country are actually verified. Access, os, and dev_type might provide some level of correlation with fraud behavior, but probably won't be highly predictive by themselves.</li>\n",
    "</ul>\n"
   ]
  },
  {
   "cell_type": "markdown",
   "metadata": {},
   "source": [
    "### First let's compute a reasonable streaming rate per day:\n",
    "Assuming an active listening window (maximum) of 12 hours (43200s) per day, how many songs would a human user stream on average per day?\n",
    "\n",
    "We'll say the average song length is: 230s\n",
    "https://www.statcrunch.com/5.0/viewreport.php?groupid=948&reportid=28647\n",
    "\n",
    "Non-stop listening within a 12hr window would be about 43200/230 = 188 songs.\n",
    "\n",
    "(For reference, there's 86400s in 24hours)\n",
    "\n",
    "So let's start by looking at the data for all user_ids that are streaming more than 200 songs per day.\n",
    "\n"
   ]
  },
  {
   "cell_type": "markdown",
   "metadata": {},
   "source": [
    "### datByUser high track volume histogram"
   ]
  },
  {
   "cell_type": "markdown",
   "metadata": {},
   "source": [
    "Let's look at an obvious example of fraudster. We'll take the user_id with the highest count of tracks (time.n)"
   ]
  },
  {
   "cell_type": "code",
   "execution_count": 97,
   "metadata": {},
   "outputs": [
    {
     "data": {
      "text/plain": [
       "3310"
      ]
     },
     "execution_count": 97,
     "metadata": {},
     "output_type": "execute_result"
    }
   ],
   "source": [
    "datByUser[\"time.n\"].max()"
   ]
  },
  {
   "cell_type": "code",
   "execution_count": 98,
   "metadata": {},
   "outputs": [
    {
     "data": {
      "text/html": [
       "<div>\n",
       "<style scoped>\n",
       "    .dataframe tbody tr th:only-of-type {\n",
       "        vertical-align: middle;\n",
       "    }\n",
       "\n",
       "    .dataframe tbody tr th {\n",
       "        vertical-align: top;\n",
       "    }\n",
       "\n",
       "    .dataframe thead th {\n",
       "        text-align: right;\n",
       "    }\n",
       "</style>\n",
       "<table border=\"1\" class=\"dataframe\">\n",
       "  <thead>\n",
       "    <tr style=\"text-align: right;\">\n",
       "      <th></th>\n",
       "      <th>time.n</th>\n",
       "      <th>time.range</th>\n",
       "      <th>len.nuniq</th>\n",
       "      <th>len.sum</th>\n",
       "      <th>len.min</th>\n",
       "      <th>len.max</th>\n",
       "      <th>len.range</th>\n",
       "      <th>track.nuniq</th>\n",
       "      <th>album.nuniq</th>\n",
       "      <th>dev_type</th>\n",
       "      <th>os</th>\n",
       "      <th>access</th>\n",
       "      <th>birth_year</th>\n",
       "      <th>country</th>\n",
       "      <th>gender</th>\n",
       "      <th>age</th>\n",
       "    </tr>\n",
       "    <tr>\n",
       "      <th>user_id</th>\n",
       "      <th></th>\n",
       "      <th></th>\n",
       "      <th></th>\n",
       "      <th></th>\n",
       "      <th></th>\n",
       "      <th></th>\n",
       "      <th></th>\n",
       "      <th></th>\n",
       "      <th></th>\n",
       "      <th></th>\n",
       "      <th></th>\n",
       "      <th></th>\n",
       "      <th></th>\n",
       "      <th></th>\n",
       "      <th></th>\n",
       "      <th></th>\n",
       "    </tr>\n",
       "  </thead>\n",
       "  <tbody>\n",
       "    <tr>\n",
       "      <th>961141</th>\n",
       "      <td>3310</td>\n",
       "      <td>0 days</td>\n",
       "      <td>2</td>\n",
       "      <td>196945</td>\n",
       "      <td>55</td>\n",
       "      <td>60</td>\n",
       "      <td>5</td>\n",
       "      <td>10</td>\n",
       "      <td>1</td>\n",
       "      <td>tablet</td>\n",
       "      <td>iOS</td>\n",
       "      <td>premium</td>\n",
       "      <td>1982.0</td>\n",
       "      <td>8</td>\n",
       "      <td>female</td>\n",
       "      <td>35.0</td>\n",
       "    </tr>\n",
       "  </tbody>\n",
       "</table>\n",
       "</div>"
      ],
      "text/plain": [
       "         time.n time.range  len.nuniq  len.sum  len.min  len.max  len.range  \\\n",
       "user_id                                                                       \n",
       "961141     3310     0 days          2   196945       55       60          5   \n",
       "\n",
       "         track.nuniq  album.nuniq dev_type   os   access  birth_year  country  \\\n",
       "user_id                                                                         \n",
       "961141            10            1   tablet  iOS  premium      1982.0        8   \n",
       "\n",
       "         gender   age  \n",
       "user_id                \n",
       "961141   female  35.0  "
      ]
     },
     "execution_count": 98,
     "metadata": {},
     "output_type": "execute_result"
    }
   ],
   "source": [
    "datByUser[datByUser[\"time.n\"] == 3310]"
   ]
  },
  {
   "cell_type": "markdown",
   "metadata": {},
   "source": [
    "So this is a pretty clear example of a bot user_id. They listened to 3310 tracks in 24 hours, listened to only 1 album, and only listened for either 55 or 60 seconds. We can verify here:"
   ]
  },
  {
   "cell_type": "code",
   "execution_count": 99,
   "metadata": {},
   "outputs": [
    {
     "data": {
      "text/html": [
       "<div>\n",
       "<style scoped>\n",
       "    .dataframe tbody tr th:only-of-type {\n",
       "        vertical-align: middle;\n",
       "    }\n",
       "\n",
       "    .dataframe tbody tr th {\n",
       "        vertical-align: top;\n",
       "    }\n",
       "\n",
       "    .dataframe thead th {\n",
       "        text-align: right;\n",
       "    }\n",
       "</style>\n",
       "<table border=\"1\" class=\"dataframe\">\n",
       "  <thead>\n",
       "    <tr style=\"text-align: right;\">\n",
       "      <th></th>\n",
       "      <th>device_type</th>\n",
       "      <th>length</th>\n",
       "      <th>os</th>\n",
       "      <th>timestamp</th>\n",
       "      <th>track_id</th>\n",
       "      <th>user_id</th>\n",
       "      <th>album_artist</th>\n",
       "      <th>album_code</th>\n",
       "      <th>album_name</th>\n",
       "      <th>track_name</th>\n",
       "      <th>access</th>\n",
       "      <th>birth_year</th>\n",
       "      <th>country</th>\n",
       "      <th>gender</th>\n",
       "      <th>age</th>\n",
       "    </tr>\n",
       "  </thead>\n",
       "  <tbody>\n",
       "    <tr>\n",
       "      <th>409</th>\n",
       "      <td>tablet</td>\n",
       "      <td>60</td>\n",
       "      <td>iOS</td>\n",
       "      <td>2017-09-09 09:45:00</td>\n",
       "      <td>154</td>\n",
       "      <td>961141</td>\n",
       "      <td>Tod Mcdowell</td>\n",
       "      <td>21908</td>\n",
       "      <td>Lynx Afternoon</td>\n",
       "      <td>Guarded Shark</td>\n",
       "      <td>premium</td>\n",
       "      <td>1982.0</td>\n",
       "      <td>8</td>\n",
       "      <td>female</td>\n",
       "      <td>35.0</td>\n",
       "    </tr>\n",
       "    <tr>\n",
       "      <th>673</th>\n",
       "      <td>tablet</td>\n",
       "      <td>55</td>\n",
       "      <td>iOS</td>\n",
       "      <td>2017-09-09 09:45:00</td>\n",
       "      <td>75482</td>\n",
       "      <td>961141</td>\n",
       "      <td>Tod Mcdowell</td>\n",
       "      <td>21908</td>\n",
       "      <td>Lynx Afternoon</td>\n",
       "      <td>Clear Deer</td>\n",
       "      <td>premium</td>\n",
       "      <td>1982.0</td>\n",
       "      <td>8</td>\n",
       "      <td>female</td>\n",
       "      <td>35.0</td>\n",
       "    </tr>\n",
       "    <tr>\n",
       "      <th>726</th>\n",
       "      <td>tablet</td>\n",
       "      <td>60</td>\n",
       "      <td>iOS</td>\n",
       "      <td>2017-09-09 09:45:00</td>\n",
       "      <td>12399</td>\n",
       "      <td>961141</td>\n",
       "      <td>Tod Mcdowell</td>\n",
       "      <td>21908</td>\n",
       "      <td>Lynx Afternoon</td>\n",
       "      <td>Purple Zorse</td>\n",
       "      <td>premium</td>\n",
       "      <td>1982.0</td>\n",
       "      <td>8</td>\n",
       "      <td>female</td>\n",
       "      <td>35.0</td>\n",
       "    </tr>\n",
       "    <tr>\n",
       "      <th>3040</th>\n",
       "      <td>tablet</td>\n",
       "      <td>60</td>\n",
       "      <td>iOS</td>\n",
       "      <td>2017-09-09 09:45:00</td>\n",
       "      <td>63480</td>\n",
       "      <td>961141</td>\n",
       "      <td>Tod Mcdowell</td>\n",
       "      <td>21908</td>\n",
       "      <td>Lynx Afternoon</td>\n",
       "      <td>Zealous Pademelon</td>\n",
       "      <td>premium</td>\n",
       "      <td>1982.0</td>\n",
       "      <td>8</td>\n",
       "      <td>female</td>\n",
       "      <td>35.0</td>\n",
       "    </tr>\n",
       "    <tr>\n",
       "      <th>5275</th>\n",
       "      <td>tablet</td>\n",
       "      <td>55</td>\n",
       "      <td>iOS</td>\n",
       "      <td>2017-09-09 09:45:00</td>\n",
       "      <td>75482</td>\n",
       "      <td>961141</td>\n",
       "      <td>Tod Mcdowell</td>\n",
       "      <td>21908</td>\n",
       "      <td>Lynx Afternoon</td>\n",
       "      <td>Clear Deer</td>\n",
       "      <td>premium</td>\n",
       "      <td>1982.0</td>\n",
       "      <td>8</td>\n",
       "      <td>female</td>\n",
       "      <td>35.0</td>\n",
       "    </tr>\n",
       "    <tr>\n",
       "      <th>5288</th>\n",
       "      <td>tablet</td>\n",
       "      <td>55</td>\n",
       "      <td>iOS</td>\n",
       "      <td>2017-09-09 09:45:00</td>\n",
       "      <td>75482</td>\n",
       "      <td>961141</td>\n",
       "      <td>Tod Mcdowell</td>\n",
       "      <td>21908</td>\n",
       "      <td>Lynx Afternoon</td>\n",
       "      <td>Clear Deer</td>\n",
       "      <td>premium</td>\n",
       "      <td>1982.0</td>\n",
       "      <td>8</td>\n",
       "      <td>female</td>\n",
       "      <td>35.0</td>\n",
       "    </tr>\n",
       "  </tbody>\n",
       "</table>\n",
       "</div>"
      ],
      "text/plain": [
       "     device_type  length   os           timestamp track_id user_id  \\\n",
       "409       tablet      60  iOS 2017-09-09 09:45:00      154  961141   \n",
       "673       tablet      55  iOS 2017-09-09 09:45:00    75482  961141   \n",
       "726       tablet      60  iOS 2017-09-09 09:45:00    12399  961141   \n",
       "3040      tablet      60  iOS 2017-09-09 09:45:00    63480  961141   \n",
       "5275      tablet      55  iOS 2017-09-09 09:45:00    75482  961141   \n",
       "5288      tablet      55  iOS 2017-09-09 09:45:00    75482  961141   \n",
       "\n",
       "      album_artist album_code      album_name         track_name   access  \\\n",
       "409   Tod Mcdowell      21908  Lynx Afternoon      Guarded Shark  premium   \n",
       "673   Tod Mcdowell      21908  Lynx Afternoon         Clear Deer  premium   \n",
       "726   Tod Mcdowell      21908  Lynx Afternoon       Purple Zorse  premium   \n",
       "3040  Tod Mcdowell      21908  Lynx Afternoon  Zealous Pademelon  premium   \n",
       "5275  Tod Mcdowell      21908  Lynx Afternoon         Clear Deer  premium   \n",
       "5288  Tod Mcdowell      21908  Lynx Afternoon         Clear Deer  premium   \n",
       "\n",
       "      birth_year country  gender   age  \n",
       "409       1982.0       8  female  35.0  \n",
       "673       1982.0       8  female  35.0  \n",
       "726       1982.0       8  female  35.0  \n",
       "3040      1982.0       8  female  35.0  \n",
       "5275      1982.0       8  female  35.0  \n",
       "5288      1982.0       8  female  35.0  "
      ]
     },
     "execution_count": 99,
     "metadata": {},
     "output_type": "execute_result"
    }
   ],
   "source": [
    "dat[dat[\"user_id\"] == 961141].head(6)"
   ]
  },
  {
   "cell_type": "markdown",
   "metadata": {},
   "source": [
    "99.9% Quantile for number of songs"
   ]
  },
  {
   "cell_type": "code",
   "execution_count": 100,
   "metadata": {},
   "outputs": [
    {
     "data": {
      "text/plain": [
       "86.0"
      ]
     },
     "execution_count": 100,
     "metadata": {},
     "output_type": "execute_result"
    }
   ],
   "source": [
    "datByUser[\"time.n\"].quantile(.999)"
   ]
  },
  {
   "cell_type": "markdown",
   "metadata": {},
   "source": [
    "So only 0.1% of users are listening to more than 86 songs in a 24hr period"
   ]
  },
  {
   "cell_type": "code",
   "execution_count": 101,
   "metadata": {},
   "outputs": [
    {
     "data": {
      "text/html": [
       "<div>\n",
       "<style scoped>\n",
       "    .dataframe tbody tr th:only-of-type {\n",
       "        vertical-align: middle;\n",
       "    }\n",
       "\n",
       "    .dataframe tbody tr th {\n",
       "        vertical-align: top;\n",
       "    }\n",
       "\n",
       "    .dataframe thead th {\n",
       "        text-align: right;\n",
       "    }\n",
       "</style>\n",
       "<table border=\"1\" class=\"dataframe\">\n",
       "  <thead>\n",
       "    <tr style=\"text-align: right;\">\n",
       "      <th></th>\n",
       "      <th>time.n</th>\n",
       "      <th>time.range</th>\n",
       "      <th>len.nuniq</th>\n",
       "      <th>len.sum</th>\n",
       "      <th>len.min</th>\n",
       "      <th>len.max</th>\n",
       "      <th>len.range</th>\n",
       "      <th>track.nuniq</th>\n",
       "      <th>album.nuniq</th>\n",
       "      <th>dev_type</th>\n",
       "      <th>os</th>\n",
       "      <th>access</th>\n",
       "      <th>birth_year</th>\n",
       "      <th>country</th>\n",
       "      <th>gender</th>\n",
       "      <th>age</th>\n",
       "    </tr>\n",
       "    <tr>\n",
       "      <th>user_id</th>\n",
       "      <th></th>\n",
       "      <th></th>\n",
       "      <th></th>\n",
       "      <th></th>\n",
       "      <th></th>\n",
       "      <th></th>\n",
       "      <th></th>\n",
       "      <th></th>\n",
       "      <th></th>\n",
       "      <th></th>\n",
       "      <th></th>\n",
       "      <th></th>\n",
       "      <th></th>\n",
       "      <th></th>\n",
       "      <th></th>\n",
       "      <th></th>\n",
       "    </tr>\n",
       "  </thead>\n",
       "  <tbody>\n",
       "    <tr>\n",
       "      <th>1085</th>\n",
       "      <td>341</td>\n",
       "      <td>06:00:00</td>\n",
       "      <td>6</td>\n",
       "      <td>20602</td>\n",
       "      <td>51</td>\n",
       "      <td>73</td>\n",
       "      <td>22</td>\n",
       "      <td>100</td>\n",
       "      <td>10</td>\n",
       "      <td>desktop</td>\n",
       "      <td>Browser</td>\n",
       "      <td>free</td>\n",
       "      <td>1981.0</td>\n",
       "      <td>22</td>\n",
       "      <td>male</td>\n",
       "      <td>36.0</td>\n",
       "    </tr>\n",
       "    <tr>\n",
       "      <th>2102</th>\n",
       "      <td>339</td>\n",
       "      <td>12:00:00</td>\n",
       "      <td>2</td>\n",
       "      <td>20317</td>\n",
       "      <td>37</td>\n",
       "      <td>60</td>\n",
       "      <td>23</td>\n",
       "      <td>5</td>\n",
       "      <td>1</td>\n",
       "      <td>mobile</td>\n",
       "      <td>iOS</td>\n",
       "      <td>premium</td>\n",
       "      <td>1988.0</td>\n",
       "      <td>59</td>\n",
       "      <td>male</td>\n",
       "      <td>29.0</td>\n",
       "    </tr>\n",
       "    <tr>\n",
       "      <th>3800</th>\n",
       "      <td>272</td>\n",
       "      <td>23:45:00</td>\n",
       "      <td>77</td>\n",
       "      <td>30759</td>\n",
       "      <td>43</td>\n",
       "      <td>191</td>\n",
       "      <td>148</td>\n",
       "      <td>260</td>\n",
       "      <td>43</td>\n",
       "      <td>desktop</td>\n",
       "      <td>Browser</td>\n",
       "      <td>premium</td>\n",
       "      <td>1990.0</td>\n",
       "      <td>59</td>\n",
       "      <td>male</td>\n",
       "      <td>27.0</td>\n",
       "    </tr>\n",
       "    <tr>\n",
       "      <th>4860</th>\n",
       "      <td>238</td>\n",
       "      <td>23:45:00</td>\n",
       "      <td>77</td>\n",
       "      <td>26395</td>\n",
       "      <td>64</td>\n",
       "      <td>192</td>\n",
       "      <td>128</td>\n",
       "      <td>207</td>\n",
       "      <td>41</td>\n",
       "      <td>desktop</td>\n",
       "      <td>Browser</td>\n",
       "      <td>premium</td>\n",
       "      <td>1990.0</td>\n",
       "      <td>59</td>\n",
       "      <td>male</td>\n",
       "      <td>27.0</td>\n",
       "    </tr>\n",
       "    <tr>\n",
       "      <th>5750</th>\n",
       "      <td>356</td>\n",
       "      <td>06:15:00</td>\n",
       "      <td>5</td>\n",
       "      <td>21395</td>\n",
       "      <td>53</td>\n",
       "      <td>73</td>\n",
       "      <td>20</td>\n",
       "      <td>99</td>\n",
       "      <td>10</td>\n",
       "      <td>desktop</td>\n",
       "      <td>Browser</td>\n",
       "      <td>free</td>\n",
       "      <td>1959.0</td>\n",
       "      <td>37</td>\n",
       "      <td>female</td>\n",
       "      <td>58.0</td>\n",
       "    </tr>\n",
       "    <tr>\n",
       "      <th>6138</th>\n",
       "      <td>455</td>\n",
       "      <td>15:45:00</td>\n",
       "      <td>2</td>\n",
       "      <td>27295</td>\n",
       "      <td>55</td>\n",
       "      <td>60</td>\n",
       "      <td>5</td>\n",
       "      <td>10</td>\n",
       "      <td>1</td>\n",
       "      <td>mobile</td>\n",
       "      <td>iOS</td>\n",
       "      <td>premium</td>\n",
       "      <td>1998.0</td>\n",
       "      <td>30</td>\n",
       "      <td>female</td>\n",
       "      <td>19.0</td>\n",
       "    </tr>\n",
       "    <tr>\n",
       "      <th>7097</th>\n",
       "      <td>260</td>\n",
       "      <td>04:30:00</td>\n",
       "      <td>6</td>\n",
       "      <td>15747</td>\n",
       "      <td>51</td>\n",
       "      <td>73</td>\n",
       "      <td>22</td>\n",
       "      <td>101</td>\n",
       "      <td>10</td>\n",
       "      <td>desktop</td>\n",
       "      <td>Browser</td>\n",
       "      <td>free</td>\n",
       "      <td>1961.0</td>\n",
       "      <td>52</td>\n",
       "      <td>male</td>\n",
       "      <td>56.0</td>\n",
       "    </tr>\n",
       "    <tr>\n",
       "      <th>7549</th>\n",
       "      <td>370</td>\n",
       "      <td>23:45:00</td>\n",
       "      <td>2</td>\n",
       "      <td>57339</td>\n",
       "      <td>144</td>\n",
       "      <td>155</td>\n",
       "      <td>11</td>\n",
       "      <td>1</td>\n",
       "      <td>1</td>\n",
       "      <td>desktop</td>\n",
       "      <td>other</td>\n",
       "      <td>premium</td>\n",
       "      <td>1987.0</td>\n",
       "      <td>59</td>\n",
       "      <td>female</td>\n",
       "      <td>30.0</td>\n",
       "    </tr>\n",
       "    <tr>\n",
       "      <th>8749</th>\n",
       "      <td>309</td>\n",
       "      <td>05:30:00</td>\n",
       "      <td>6</td>\n",
       "      <td>18687</td>\n",
       "      <td>51</td>\n",
       "      <td>73</td>\n",
       "      <td>22</td>\n",
       "      <td>100</td>\n",
       "      <td>10</td>\n",
       "      <td>desktop</td>\n",
       "      <td>Browser</td>\n",
       "      <td>free</td>\n",
       "      <td>1982.0</td>\n",
       "      <td>16</td>\n",
       "      <td>male</td>\n",
       "      <td>35.0</td>\n",
       "    </tr>\n",
       "    <tr>\n",
       "      <th>10077</th>\n",
       "      <td>1840</td>\n",
       "      <td>21:00:00</td>\n",
       "      <td>30</td>\n",
       "      <td>192160</td>\n",
       "      <td>90</td>\n",
       "      <td>119</td>\n",
       "      <td>29</td>\n",
       "      <td>230</td>\n",
       "      <td>230</td>\n",
       "      <td>desktop</td>\n",
       "      <td>Linux</td>\n",
       "      <td>free</td>\n",
       "      <td>1995.0</td>\n",
       "      <td>45</td>\n",
       "      <td>female</td>\n",
       "      <td>22.0</td>\n",
       "    </tr>\n",
       "    <tr>\n",
       "      <th>10613</th>\n",
       "      <td>242</td>\n",
       "      <td>23:30:00</td>\n",
       "      <td>74</td>\n",
       "      <td>27243</td>\n",
       "      <td>39</td>\n",
       "      <td>158</td>\n",
       "      <td>119</td>\n",
       "      <td>234</td>\n",
       "      <td>42</td>\n",
       "      <td>desktop</td>\n",
       "      <td>Browser</td>\n",
       "      <td>premium</td>\n",
       "      <td>1973.0</td>\n",
       "      <td>59</td>\n",
       "      <td></td>\n",
       "      <td>44.0</td>\n",
       "    </tr>\n",
       "    <tr>\n",
       "      <th>10735</th>\n",
       "      <td>356</td>\n",
       "      <td>06:15:00</td>\n",
       "      <td>6</td>\n",
       "      <td>21510</td>\n",
       "      <td>51</td>\n",
       "      <td>65</td>\n",
       "      <td>14</td>\n",
       "      <td>100</td>\n",
       "      <td>10</td>\n",
       "      <td>desktop</td>\n",
       "      <td>Browser</td>\n",
       "      <td>free</td>\n",
       "      <td>1972.0</td>\n",
       "      <td>37</td>\n",
       "      <td>male</td>\n",
       "      <td>45.0</td>\n",
       "    </tr>\n",
       "    <tr>\n",
       "      <th>14470</th>\n",
       "      <td>538</td>\n",
       "      <td>02:15:00</td>\n",
       "      <td>43</td>\n",
       "      <td>72321</td>\n",
       "      <td>59</td>\n",
       "      <td>200</td>\n",
       "      <td>141</td>\n",
       "      <td>50</td>\n",
       "      <td>15</td>\n",
       "      <td>mobile</td>\n",
       "      <td>Android</td>\n",
       "      <td>premium</td>\n",
       "      <td>1996.0</td>\n",
       "      <td>15</td>\n",
       "      <td>female</td>\n",
       "      <td>21.0</td>\n",
       "    </tr>\n",
       "    <tr>\n",
       "      <th>20901</th>\n",
       "      <td>201</td>\n",
       "      <td>04:30:00</td>\n",
       "      <td>5</td>\n",
       "      <td>12132</td>\n",
       "      <td>51</td>\n",
       "      <td>65</td>\n",
       "      <td>14</td>\n",
       "      <td>100</td>\n",
       "      <td>10</td>\n",
       "      <td>desktop</td>\n",
       "      <td>Browser</td>\n",
       "      <td>free</td>\n",
       "      <td>1962.0</td>\n",
       "      <td>44</td>\n",
       "      <td>female</td>\n",
       "      <td>55.0</td>\n",
       "    </tr>\n",
       "    <tr>\n",
       "      <th>21461</th>\n",
       "      <td>205</td>\n",
       "      <td>23:45:00</td>\n",
       "      <td>26</td>\n",
       "      <td>44106</td>\n",
       "      <td>108</td>\n",
       "      <td>261</td>\n",
       "      <td>153</td>\n",
       "      <td>29</td>\n",
       "      <td>6</td>\n",
       "      <td>desktop</td>\n",
       "      <td>Windows</td>\n",
       "      <td>free</td>\n",
       "      <td>1995.0</td>\n",
       "      <td>59</td>\n",
       "      <td>female</td>\n",
       "      <td>22.0</td>\n",
       "    </tr>\n",
       "    <tr>\n",
       "      <th>21911</th>\n",
       "      <td>631</td>\n",
       "      <td>23:45:00</td>\n",
       "      <td>26</td>\n",
       "      <td>48958</td>\n",
       "      <td>38</td>\n",
       "      <td>150</td>\n",
       "      <td>112</td>\n",
       "      <td>19</td>\n",
       "      <td>3</td>\n",
       "      <td>desktop</td>\n",
       "      <td>Windows</td>\n",
       "      <td>free</td>\n",
       "      <td>1992.0</td>\n",
       "      <td>52</td>\n",
       "      <td>female</td>\n",
       "      <td>25.0</td>\n",
       "    </tr>\n",
       "    <tr>\n",
       "      <th>22082</th>\n",
       "      <td>242</td>\n",
       "      <td>04:15:00</td>\n",
       "      <td>9</td>\n",
       "      <td>14558</td>\n",
       "      <td>54</td>\n",
       "      <td>77</td>\n",
       "      <td>23</td>\n",
       "      <td>99</td>\n",
       "      <td>10</td>\n",
       "      <td>desktop</td>\n",
       "      <td>Browser</td>\n",
       "      <td>free</td>\n",
       "      <td>1995.0</td>\n",
       "      <td>43</td>\n",
       "      <td>female</td>\n",
       "      <td>22.0</td>\n",
       "    </tr>\n",
       "    <tr>\n",
       "      <th>25334</th>\n",
       "      <td>415</td>\n",
       "      <td>23:45:00</td>\n",
       "      <td>88</td>\n",
       "      <td>46721</td>\n",
       "      <td>39</td>\n",
       "      <td>191</td>\n",
       "      <td>152</td>\n",
       "      <td>408</td>\n",
       "      <td>47</td>\n",
       "      <td>mobile</td>\n",
       "      <td>Android</td>\n",
       "      <td>premium</td>\n",
       "      <td>1995.0</td>\n",
       "      <td>59</td>\n",
       "      <td>male</td>\n",
       "      <td>22.0</td>\n",
       "    </tr>\n",
       "    <tr>\n",
       "      <th>27778</th>\n",
       "      <td>1840</td>\n",
       "      <td>21:00:00</td>\n",
       "      <td>30</td>\n",
       "      <td>192160</td>\n",
       "      <td>90</td>\n",
       "      <td>119</td>\n",
       "      <td>29</td>\n",
       "      <td>230</td>\n",
       "      <td>230</td>\n",
       "      <td>desktop</td>\n",
       "      <td>Linux</td>\n",
       "      <td>free</td>\n",
       "      <td>1985.0</td>\n",
       "      <td>4</td>\n",
       "      <td>male</td>\n",
       "      <td>32.0</td>\n",
       "    </tr>\n",
       "    <tr>\n",
       "      <th>30343</th>\n",
       "      <td>918</td>\n",
       "      <td>23:45:00</td>\n",
       "      <td>1</td>\n",
       "      <td>86292</td>\n",
       "      <td>94</td>\n",
       "      <td>94</td>\n",
       "      <td>0</td>\n",
       "      <td>1</td>\n",
       "      <td>1</td>\n",
       "      <td>mobile</td>\n",
       "      <td>iOS</td>\n",
       "      <td>premium</td>\n",
       "      <td>1975.0</td>\n",
       "      <td>59</td>\n",
       "      <td>female</td>\n",
       "      <td>42.0</td>\n",
       "    </tr>\n",
       "    <tr>\n",
       "      <th>31824</th>\n",
       "      <td>242</td>\n",
       "      <td>04:15:00</td>\n",
       "      <td>9</td>\n",
       "      <td>14541</td>\n",
       "      <td>54</td>\n",
       "      <td>77</td>\n",
       "      <td>23</td>\n",
       "      <td>99</td>\n",
       "      <td>10</td>\n",
       "      <td>desktop</td>\n",
       "      <td>Browser</td>\n",
       "      <td>free</td>\n",
       "      <td>1978.0</td>\n",
       "      <td>43</td>\n",
       "      <td>male</td>\n",
       "      <td>39.0</td>\n",
       "    </tr>\n",
       "    <tr>\n",
       "      <th>32278</th>\n",
       "      <td>288</td>\n",
       "      <td>22:30:00</td>\n",
       "      <td>2</td>\n",
       "      <td>17257</td>\n",
       "      <td>37</td>\n",
       "      <td>60</td>\n",
       "      <td>23</td>\n",
       "      <td>1</td>\n",
       "      <td>1</td>\n",
       "      <td>desktop</td>\n",
       "      <td>other</td>\n",
       "      <td>premium</td>\n",
       "      <td>1957.0</td>\n",
       "      <td>59</td>\n",
       "      <td>female</td>\n",
       "      <td>60.0</td>\n",
       "    </tr>\n",
       "    <tr>\n",
       "      <th>34094</th>\n",
       "      <td>449</td>\n",
       "      <td>00:00:00</td>\n",
       "      <td>2</td>\n",
       "      <td>27600</td>\n",
       "      <td>60</td>\n",
       "      <td>75</td>\n",
       "      <td>15</td>\n",
       "      <td>10</td>\n",
       "      <td>1</td>\n",
       "      <td>mobile</td>\n",
       "      <td>Android</td>\n",
       "      <td>premium</td>\n",
       "      <td>1985.0</td>\n",
       "      <td>59</td>\n",
       "      <td>male</td>\n",
       "      <td>32.0</td>\n",
       "    </tr>\n",
       "    <tr>\n",
       "      <th>36355</th>\n",
       "      <td>346</td>\n",
       "      <td>23:45:00</td>\n",
       "      <td>16</td>\n",
       "      <td>79866</td>\n",
       "      <td>96</td>\n",
       "      <td>297</td>\n",
       "      <td>201</td>\n",
       "      <td>16</td>\n",
       "      <td>1</td>\n",
       "      <td>mobile</td>\n",
       "      <td>Android</td>\n",
       "      <td>premium</td>\n",
       "      <td>1987.0</td>\n",
       "      <td>59</td>\n",
       "      <td>male</td>\n",
       "      <td>30.0</td>\n",
       "    </tr>\n",
       "    <tr>\n",
       "      <th>37102</th>\n",
       "      <td>354</td>\n",
       "      <td>06:15:00</td>\n",
       "      <td>4</td>\n",
       "      <td>21226</td>\n",
       "      <td>53</td>\n",
       "      <td>62</td>\n",
       "      <td>9</td>\n",
       "      <td>100</td>\n",
       "      <td>10</td>\n",
       "      <td>desktop</td>\n",
       "      <td>Browser</td>\n",
       "      <td>free</td>\n",
       "      <td>1993.0</td>\n",
       "      <td>37</td>\n",
       "      <td>female</td>\n",
       "      <td>24.0</td>\n",
       "    </tr>\n",
       "    <tr>\n",
       "      <th>37682</th>\n",
       "      <td>280</td>\n",
       "      <td>23:45:00</td>\n",
       "      <td>74</td>\n",
       "      <td>32861</td>\n",
       "      <td>68</td>\n",
       "      <td>192</td>\n",
       "      <td>124</td>\n",
       "      <td>266</td>\n",
       "      <td>40</td>\n",
       "      <td>desktop</td>\n",
       "      <td>Browser</td>\n",
       "      <td>premium</td>\n",
       "      <td>1993.0</td>\n",
       "      <td>59</td>\n",
       "      <td>male</td>\n",
       "      <td>24.0</td>\n",
       "    </tr>\n",
       "    <tr>\n",
       "      <th>41064</th>\n",
       "      <td>231</td>\n",
       "      <td>12:45:00</td>\n",
       "      <td>11</td>\n",
       "      <td>46116</td>\n",
       "      <td>81</td>\n",
       "      <td>347</td>\n",
       "      <td>266</td>\n",
       "      <td>11</td>\n",
       "      <td>1</td>\n",
       "      <td>desktop</td>\n",
       "      <td>Mac</td>\n",
       "      <td>premium</td>\n",
       "      <td>1983.0</td>\n",
       "      <td>21</td>\n",
       "      <td>male</td>\n",
       "      <td>34.0</td>\n",
       "    </tr>\n",
       "    <tr>\n",
       "      <th>44267</th>\n",
       "      <td>336</td>\n",
       "      <td>05:45:00</td>\n",
       "      <td>5</td>\n",
       "      <td>20610</td>\n",
       "      <td>39</td>\n",
       "      <td>75</td>\n",
       "      <td>36</td>\n",
       "      <td>10</td>\n",
       "      <td>1</td>\n",
       "      <td>desktop</td>\n",
       "      <td>other</td>\n",
       "      <td>premium</td>\n",
       "      <td>1986.0</td>\n",
       "      <td>59</td>\n",
       "      <td>male</td>\n",
       "      <td>31.0</td>\n",
       "    </tr>\n",
       "    <tr>\n",
       "      <th>44702</th>\n",
       "      <td>377</td>\n",
       "      <td>06:15:00</td>\n",
       "      <td>1</td>\n",
       "      <td>22620</td>\n",
       "      <td>60</td>\n",
       "      <td>60</td>\n",
       "      <td>0</td>\n",
       "      <td>1</td>\n",
       "      <td>1</td>\n",
       "      <td>mobile</td>\n",
       "      <td>iOS</td>\n",
       "      <td>premium</td>\n",
       "      <td>1985.0</td>\n",
       "      <td>22</td>\n",
       "      <td>male</td>\n",
       "      <td>32.0</td>\n",
       "    </tr>\n",
       "    <tr>\n",
       "      <th>45005</th>\n",
       "      <td>216</td>\n",
       "      <td>23:45:00</td>\n",
       "      <td>69</td>\n",
       "      <td>24936</td>\n",
       "      <td>64</td>\n",
       "      <td>191</td>\n",
       "      <td>127</td>\n",
       "      <td>214</td>\n",
       "      <td>43</td>\n",
       "      <td>mobile</td>\n",
       "      <td>Android</td>\n",
       "      <td>premium</td>\n",
       "      <td>1990.0</td>\n",
       "      <td>59</td>\n",
       "      <td>male</td>\n",
       "      <td>27.0</td>\n",
       "    </tr>\n",
       "    <tr>\n",
       "      <th>...</th>\n",
       "      <td>...</td>\n",
       "      <td>...</td>\n",
       "      <td>...</td>\n",
       "      <td>...</td>\n",
       "      <td>...</td>\n",
       "      <td>...</td>\n",
       "      <td>...</td>\n",
       "      <td>...</td>\n",
       "      <td>...</td>\n",
       "      <td>...</td>\n",
       "      <td>...</td>\n",
       "      <td>...</td>\n",
       "      <td>...</td>\n",
       "      <td>...</td>\n",
       "      <td>...</td>\n",
       "      <td>...</td>\n",
       "    </tr>\n",
       "    <tr>\n",
       "      <th>1740602</th>\n",
       "      <td>252</td>\n",
       "      <td>23:45:00</td>\n",
       "      <td>3</td>\n",
       "      <td>51022</td>\n",
       "      <td>86</td>\n",
       "      <td>203</td>\n",
       "      <td>117</td>\n",
       "      <td>1</td>\n",
       "      <td>1</td>\n",
       "      <td>mobile</td>\n",
       "      <td>iOS</td>\n",
       "      <td>premium</td>\n",
       "      <td>1961.0</td>\n",
       "      <td>52</td>\n",
       "      <td>female</td>\n",
       "      <td>56.0</td>\n",
       "    </tr>\n",
       "    <tr>\n",
       "      <th>1743464</th>\n",
       "      <td>260</td>\n",
       "      <td>04:30:00</td>\n",
       "      <td>8</td>\n",
       "      <td>15653</td>\n",
       "      <td>54</td>\n",
       "      <td>77</td>\n",
       "      <td>23</td>\n",
       "      <td>99</td>\n",
       "      <td>10</td>\n",
       "      <td>desktop</td>\n",
       "      <td>Browser</td>\n",
       "      <td>free</td>\n",
       "      <td>1988.0</td>\n",
       "      <td>52</td>\n",
       "      <td>male</td>\n",
       "      <td>29.0</td>\n",
       "    </tr>\n",
       "    <tr>\n",
       "      <th>1744130</th>\n",
       "      <td>356</td>\n",
       "      <td>23:45:00</td>\n",
       "      <td>1</td>\n",
       "      <td>86152</td>\n",
       "      <td>242</td>\n",
       "      <td>242</td>\n",
       "      <td>0</td>\n",
       "      <td>1</td>\n",
       "      <td>1</td>\n",
       "      <td>desktop</td>\n",
       "      <td>Mac</td>\n",
       "      <td>premium</td>\n",
       "      <td>1989.0</td>\n",
       "      <td>52</td>\n",
       "      <td>male</td>\n",
       "      <td>28.0</td>\n",
       "    </tr>\n",
       "    <tr>\n",
       "      <th>1744887</th>\n",
       "      <td>342</td>\n",
       "      <td>23:45:00</td>\n",
       "      <td>2</td>\n",
       "      <td>86184</td>\n",
       "      <td>243</td>\n",
       "      <td>261</td>\n",
       "      <td>18</td>\n",
       "      <td>2</td>\n",
       "      <td>1</td>\n",
       "      <td>mobile</td>\n",
       "      <td>Android</td>\n",
       "      <td>premium</td>\n",
       "      <td>1987.0</td>\n",
       "      <td>52</td>\n",
       "      <td>male</td>\n",
       "      <td>30.0</td>\n",
       "    </tr>\n",
       "    <tr>\n",
       "      <th>1745316</th>\n",
       "      <td>282</td>\n",
       "      <td>23:45:00</td>\n",
       "      <td>79</td>\n",
       "      <td>32350</td>\n",
       "      <td>61</td>\n",
       "      <td>164</td>\n",
       "      <td>103</td>\n",
       "      <td>282</td>\n",
       "      <td>46</td>\n",
       "      <td>desktop</td>\n",
       "      <td>Linux</td>\n",
       "      <td>premium</td>\n",
       "      <td>1963.0</td>\n",
       "      <td>59</td>\n",
       "      <td>female</td>\n",
       "      <td>54.0</td>\n",
       "    </tr>\n",
       "    <tr>\n",
       "      <th>1747221</th>\n",
       "      <td>215</td>\n",
       "      <td>23:45:00</td>\n",
       "      <td>116</td>\n",
       "      <td>38713</td>\n",
       "      <td>64</td>\n",
       "      <td>375</td>\n",
       "      <td>311</td>\n",
       "      <td>167</td>\n",
       "      <td>10</td>\n",
       "      <td>desktop</td>\n",
       "      <td>Linux</td>\n",
       "      <td>premium</td>\n",
       "      <td>1971.0</td>\n",
       "      <td>59</td>\n",
       "      <td>female</td>\n",
       "      <td>46.0</td>\n",
       "    </tr>\n",
       "    <tr>\n",
       "      <th>1747520</th>\n",
       "      <td>263</td>\n",
       "      <td>23:45:00</td>\n",
       "      <td>136</td>\n",
       "      <td>45897</td>\n",
       "      <td>64</td>\n",
       "      <td>375</td>\n",
       "      <td>311</td>\n",
       "      <td>217</td>\n",
       "      <td>14</td>\n",
       "      <td>desktop</td>\n",
       "      <td>Linux</td>\n",
       "      <td>premium</td>\n",
       "      <td>1973.0</td>\n",
       "      <td>59</td>\n",
       "      <td>male</td>\n",
       "      <td>44.0</td>\n",
       "    </tr>\n",
       "    <tr>\n",
       "      <th>1747879</th>\n",
       "      <td>229</td>\n",
       "      <td>23:45:00</td>\n",
       "      <td>42</td>\n",
       "      <td>26827</td>\n",
       "      <td>70</td>\n",
       "      <td>162</td>\n",
       "      <td>92</td>\n",
       "      <td>221</td>\n",
       "      <td>10</td>\n",
       "      <td>desktop</td>\n",
       "      <td>Browser</td>\n",
       "      <td>premium</td>\n",
       "      <td>1994.0</td>\n",
       "      <td>59</td>\n",
       "      <td>male</td>\n",
       "      <td>23.0</td>\n",
       "    </tr>\n",
       "    <tr>\n",
       "      <th>1747934</th>\n",
       "      <td>198</td>\n",
       "      <td>04:15:00</td>\n",
       "      <td>7</td>\n",
       "      <td>11972</td>\n",
       "      <td>51</td>\n",
       "      <td>73</td>\n",
       "      <td>22</td>\n",
       "      <td>101</td>\n",
       "      <td>10</td>\n",
       "      <td>desktop</td>\n",
       "      <td>Browser</td>\n",
       "      <td>free</td>\n",
       "      <td>1973.0</td>\n",
       "      <td>44</td>\n",
       "      <td>female</td>\n",
       "      <td>44.0</td>\n",
       "    </tr>\n",
       "    <tr>\n",
       "      <th>1748530</th>\n",
       "      <td>329</td>\n",
       "      <td>05:45:00</td>\n",
       "      <td>5</td>\n",
       "      <td>19893</td>\n",
       "      <td>51</td>\n",
       "      <td>65</td>\n",
       "      <td>14</td>\n",
       "      <td>101</td>\n",
       "      <td>10</td>\n",
       "      <td>desktop</td>\n",
       "      <td>Browser</td>\n",
       "      <td>free</td>\n",
       "      <td>1981.0</td>\n",
       "      <td>21</td>\n",
       "      <td>female</td>\n",
       "      <td>36.0</td>\n",
       "    </tr>\n",
       "    <tr>\n",
       "      <th>1751898</th>\n",
       "      <td>268</td>\n",
       "      <td>23:30:00</td>\n",
       "      <td>81</td>\n",
       "      <td>30474</td>\n",
       "      <td>39</td>\n",
       "      <td>163</td>\n",
       "      <td>124</td>\n",
       "      <td>266</td>\n",
       "      <td>47</td>\n",
       "      <td>mobile</td>\n",
       "      <td>Android</td>\n",
       "      <td>free</td>\n",
       "      <td>1990.0</td>\n",
       "      <td>59</td>\n",
       "      <td>female</td>\n",
       "      <td>27.0</td>\n",
       "    </tr>\n",
       "    <tr>\n",
       "      <th>1752737</th>\n",
       "      <td>270</td>\n",
       "      <td>23:45:00</td>\n",
       "      <td>136</td>\n",
       "      <td>47269</td>\n",
       "      <td>64</td>\n",
       "      <td>375</td>\n",
       "      <td>311</td>\n",
       "      <td>217</td>\n",
       "      <td>14</td>\n",
       "      <td>desktop</td>\n",
       "      <td>Linux</td>\n",
       "      <td>premium</td>\n",
       "      <td>1972.0</td>\n",
       "      <td>59</td>\n",
       "      <td>female</td>\n",
       "      <td>45.0</td>\n",
       "    </tr>\n",
       "    <tr>\n",
       "      <th>1755463</th>\n",
       "      <td>317</td>\n",
       "      <td>05:30:00</td>\n",
       "      <td>7</td>\n",
       "      <td>19165</td>\n",
       "      <td>51</td>\n",
       "      <td>73</td>\n",
       "      <td>22</td>\n",
       "      <td>100</td>\n",
       "      <td>10</td>\n",
       "      <td>desktop</td>\n",
       "      <td>Browser</td>\n",
       "      <td>free</td>\n",
       "      <td>1955.0</td>\n",
       "      <td>20</td>\n",
       "      <td>male</td>\n",
       "      <td>62.0</td>\n",
       "    </tr>\n",
       "    <tr>\n",
       "      <th>1759108</th>\n",
       "      <td>312</td>\n",
       "      <td>05:30:00</td>\n",
       "      <td>7</td>\n",
       "      <td>18865</td>\n",
       "      <td>51</td>\n",
       "      <td>73</td>\n",
       "      <td>22</td>\n",
       "      <td>100</td>\n",
       "      <td>10</td>\n",
       "      <td>desktop</td>\n",
       "      <td>Browser</td>\n",
       "      <td>free</td>\n",
       "      <td>1978.0</td>\n",
       "      <td>16</td>\n",
       "      <td>male</td>\n",
       "      <td>39.0</td>\n",
       "    </tr>\n",
       "    <tr>\n",
       "      <th>1761584</th>\n",
       "      <td>445</td>\n",
       "      <td>23:45:00</td>\n",
       "      <td>1</td>\n",
       "      <td>86330</td>\n",
       "      <td>194</td>\n",
       "      <td>194</td>\n",
       "      <td>0</td>\n",
       "      <td>1</td>\n",
       "      <td>1</td>\n",
       "      <td>desktop</td>\n",
       "      <td>Mac</td>\n",
       "      <td>premium</td>\n",
       "      <td>1966.0</td>\n",
       "      <td>52</td>\n",
       "      <td>male</td>\n",
       "      <td>51.0</td>\n",
       "    </tr>\n",
       "    <tr>\n",
       "      <th>1763129</th>\n",
       "      <td>344</td>\n",
       "      <td>06:00:00</td>\n",
       "      <td>9</td>\n",
       "      <td>20678</td>\n",
       "      <td>54</td>\n",
       "      <td>77</td>\n",
       "      <td>23</td>\n",
       "      <td>99</td>\n",
       "      <td>10</td>\n",
       "      <td>desktop</td>\n",
       "      <td>Browser</td>\n",
       "      <td>free</td>\n",
       "      <td>1957.0</td>\n",
       "      <td>22</td>\n",
       "      <td>male</td>\n",
       "      <td>60.0</td>\n",
       "    </tr>\n",
       "    <tr>\n",
       "      <th>1765284</th>\n",
       "      <td>308</td>\n",
       "      <td>23:45:00</td>\n",
       "      <td>29</td>\n",
       "      <td>66234</td>\n",
       "      <td>154</td>\n",
       "      <td>261</td>\n",
       "      <td>107</td>\n",
       "      <td>32</td>\n",
       "      <td>9</td>\n",
       "      <td>desktop</td>\n",
       "      <td>Windows</td>\n",
       "      <td>free</td>\n",
       "      <td>1960.0</td>\n",
       "      <td>59</td>\n",
       "      <td>male</td>\n",
       "      <td>57.0</td>\n",
       "    </tr>\n",
       "    <tr>\n",
       "      <th>1766839</th>\n",
       "      <td>214</td>\n",
       "      <td>22:15:00</td>\n",
       "      <td>32</td>\n",
       "      <td>24981</td>\n",
       "      <td>61</td>\n",
       "      <td>162</td>\n",
       "      <td>101</td>\n",
       "      <td>158</td>\n",
       "      <td>10</td>\n",
       "      <td>desktop</td>\n",
       "      <td>Browser</td>\n",
       "      <td>premium</td>\n",
       "      <td>1980.0</td>\n",
       "      <td>59</td>\n",
       "      <td></td>\n",
       "      <td>37.0</td>\n",
       "    </tr>\n",
       "    <tr>\n",
       "      <th>1767280</th>\n",
       "      <td>261</td>\n",
       "      <td>23:45:00</td>\n",
       "      <td>133</td>\n",
       "      <td>44897</td>\n",
       "      <td>64</td>\n",
       "      <td>340</td>\n",
       "      <td>276</td>\n",
       "      <td>214</td>\n",
       "      <td>14</td>\n",
       "      <td>desktop</td>\n",
       "      <td>Linux</td>\n",
       "      <td>premium</td>\n",
       "      <td>1951.0</td>\n",
       "      <td>59</td>\n",
       "      <td>male</td>\n",
       "      <td>66.0</td>\n",
       "    </tr>\n",
       "    <tr>\n",
       "      <th>1767372</th>\n",
       "      <td>1921</td>\n",
       "      <td>23:45:00</td>\n",
       "      <td>18</td>\n",
       "      <td>85981</td>\n",
       "      <td>34</td>\n",
       "      <td>89</td>\n",
       "      <td>55</td>\n",
       "      <td>25</td>\n",
       "      <td>5</td>\n",
       "      <td>mobile</td>\n",
       "      <td>Android</td>\n",
       "      <td>premium</td>\n",
       "      <td>1981.0</td>\n",
       "      <td>8</td>\n",
       "      <td>male</td>\n",
       "      <td>36.0</td>\n",
       "    </tr>\n",
       "    <tr>\n",
       "      <th>1767997</th>\n",
       "      <td>499</td>\n",
       "      <td>13:15:00</td>\n",
       "      <td>2</td>\n",
       "      <td>29920</td>\n",
       "      <td>40</td>\n",
       "      <td>60</td>\n",
       "      <td>20</td>\n",
       "      <td>10</td>\n",
       "      <td>1</td>\n",
       "      <td>tablet</td>\n",
       "      <td>iOS</td>\n",
       "      <td>premium</td>\n",
       "      <td>1975.0</td>\n",
       "      <td>59</td>\n",
       "      <td>male</td>\n",
       "      <td>42.0</td>\n",
       "    </tr>\n",
       "    <tr>\n",
       "      <th>1768337</th>\n",
       "      <td>241</td>\n",
       "      <td>04:15:00</td>\n",
       "      <td>6</td>\n",
       "      <td>14589</td>\n",
       "      <td>51</td>\n",
       "      <td>73</td>\n",
       "      <td>22</td>\n",
       "      <td>100</td>\n",
       "      <td>10</td>\n",
       "      <td>desktop</td>\n",
       "      <td>Browser</td>\n",
       "      <td>free</td>\n",
       "      <td>1996.0</td>\n",
       "      <td>43</td>\n",
       "      <td>female</td>\n",
       "      <td>21.0</td>\n",
       "    </tr>\n",
       "    <tr>\n",
       "      <th>1772429</th>\n",
       "      <td>264</td>\n",
       "      <td>23:45:00</td>\n",
       "      <td>77</td>\n",
       "      <td>30524</td>\n",
       "      <td>62</td>\n",
       "      <td>192</td>\n",
       "      <td>130</td>\n",
       "      <td>264</td>\n",
       "      <td>46</td>\n",
       "      <td>desktop</td>\n",
       "      <td>Linux</td>\n",
       "      <td>premium</td>\n",
       "      <td>1953.0</td>\n",
       "      <td>59</td>\n",
       "      <td>female</td>\n",
       "      <td>64.0</td>\n",
       "    </tr>\n",
       "    <tr>\n",
       "      <th>1772467</th>\n",
       "      <td>356</td>\n",
       "      <td>06:15:00</td>\n",
       "      <td>4</td>\n",
       "      <td>21383</td>\n",
       "      <td>52</td>\n",
       "      <td>73</td>\n",
       "      <td>21</td>\n",
       "      <td>99</td>\n",
       "      <td>10</td>\n",
       "      <td>desktop</td>\n",
       "      <td>Browser</td>\n",
       "      <td>free</td>\n",
       "      <td>1968.0</td>\n",
       "      <td>37</td>\n",
       "      <td>male</td>\n",
       "      <td>49.0</td>\n",
       "    </tr>\n",
       "    <tr>\n",
       "      <th>1779469</th>\n",
       "      <td>227</td>\n",
       "      <td>18:15:00</td>\n",
       "      <td>1</td>\n",
       "      <td>66057</td>\n",
       "      <td>291</td>\n",
       "      <td>291</td>\n",
       "      <td>0</td>\n",
       "      <td>1</td>\n",
       "      <td>1</td>\n",
       "      <td>desktop</td>\n",
       "      <td>Mac</td>\n",
       "      <td>premium</td>\n",
       "      <td>1951.0</td>\n",
       "      <td>52</td>\n",
       "      <td>female</td>\n",
       "      <td>66.0</td>\n",
       "    </tr>\n",
       "    <tr>\n",
       "      <th>1782191</th>\n",
       "      <td>282</td>\n",
       "      <td>05:00:00</td>\n",
       "      <td>9</td>\n",
       "      <td>16967</td>\n",
       "      <td>54</td>\n",
       "      <td>77</td>\n",
       "      <td>23</td>\n",
       "      <td>100</td>\n",
       "      <td>10</td>\n",
       "      <td>desktop</td>\n",
       "      <td>Browser</td>\n",
       "      <td>free</td>\n",
       "      <td>1977.0</td>\n",
       "      <td>20</td>\n",
       "      <td>male</td>\n",
       "      <td>40.0</td>\n",
       "    </tr>\n",
       "    <tr>\n",
       "      <th>1782705</th>\n",
       "      <td>262</td>\n",
       "      <td>23:45:00</td>\n",
       "      <td>2</td>\n",
       "      <td>47030</td>\n",
       "      <td>50</td>\n",
       "      <td>180</td>\n",
       "      <td>130</td>\n",
       "      <td>1</td>\n",
       "      <td>1</td>\n",
       "      <td>desktop</td>\n",
       "      <td>Mac</td>\n",
       "      <td>free</td>\n",
       "      <td>1987.0</td>\n",
       "      <td>52</td>\n",
       "      <td>male</td>\n",
       "      <td>30.0</td>\n",
       "    </tr>\n",
       "    <tr>\n",
       "      <th>1783298</th>\n",
       "      <td>258</td>\n",
       "      <td>23:45:00</td>\n",
       "      <td>76</td>\n",
       "      <td>29524</td>\n",
       "      <td>62</td>\n",
       "      <td>190</td>\n",
       "      <td>128</td>\n",
       "      <td>258</td>\n",
       "      <td>48</td>\n",
       "      <td>desktop</td>\n",
       "      <td>Linux</td>\n",
       "      <td>premium</td>\n",
       "      <td>1992.0</td>\n",
       "      <td>59</td>\n",
       "      <td>female</td>\n",
       "      <td>25.0</td>\n",
       "    </tr>\n",
       "    <tr>\n",
       "      <th>1783735</th>\n",
       "      <td>221</td>\n",
       "      <td>12:45:00</td>\n",
       "      <td>28</td>\n",
       "      <td>37967</td>\n",
       "      <td>34</td>\n",
       "      <td>232</td>\n",
       "      <td>198</td>\n",
       "      <td>33</td>\n",
       "      <td>3</td>\n",
       "      <td>mobile</td>\n",
       "      <td>Android</td>\n",
       "      <td>premium</td>\n",
       "      <td>1972.0</td>\n",
       "      <td>9</td>\n",
       "      <td>female</td>\n",
       "      <td>45.0</td>\n",
       "    </tr>\n",
       "    <tr>\n",
       "      <th>1786271</th>\n",
       "      <td>264</td>\n",
       "      <td>23:45:00</td>\n",
       "      <td>136</td>\n",
       "      <td>46041</td>\n",
       "      <td>64</td>\n",
       "      <td>375</td>\n",
       "      <td>311</td>\n",
       "      <td>217</td>\n",
       "      <td>14</td>\n",
       "      <td>desktop</td>\n",
       "      <td>Linux</td>\n",
       "      <td>premium</td>\n",
       "      <td>1992.0</td>\n",
       "      <td>59</td>\n",
       "      <td>male</td>\n",
       "      <td>25.0</td>\n",
       "    </tr>\n",
       "  </tbody>\n",
       "</table>\n",
       "<p>897 rows × 16 columns</p>\n",
       "</div>"
      ],
      "text/plain": [
       "         time.n time.range  len.nuniq  len.sum  len.min  len.max  len.range  \\\n",
       "user_id                                                                       \n",
       "1085        341   06:00:00          6    20602       51       73         22   \n",
       "2102        339   12:00:00          2    20317       37       60         23   \n",
       "3800        272   23:45:00         77    30759       43      191        148   \n",
       "4860        238   23:45:00         77    26395       64      192        128   \n",
       "5750        356   06:15:00          5    21395       53       73         20   \n",
       "6138        455   15:45:00          2    27295       55       60          5   \n",
       "7097        260   04:30:00          6    15747       51       73         22   \n",
       "7549        370   23:45:00          2    57339      144      155         11   \n",
       "8749        309   05:30:00          6    18687       51       73         22   \n",
       "10077      1840   21:00:00         30   192160       90      119         29   \n",
       "10613       242   23:30:00         74    27243       39      158        119   \n",
       "10735       356   06:15:00          6    21510       51       65         14   \n",
       "14470       538   02:15:00         43    72321       59      200        141   \n",
       "20901       201   04:30:00          5    12132       51       65         14   \n",
       "21461       205   23:45:00         26    44106      108      261        153   \n",
       "21911       631   23:45:00         26    48958       38      150        112   \n",
       "22082       242   04:15:00          9    14558       54       77         23   \n",
       "25334       415   23:45:00         88    46721       39      191        152   \n",
       "27778      1840   21:00:00         30   192160       90      119         29   \n",
       "30343       918   23:45:00          1    86292       94       94          0   \n",
       "31824       242   04:15:00          9    14541       54       77         23   \n",
       "32278       288   22:30:00          2    17257       37       60         23   \n",
       "34094       449   00:00:00          2    27600       60       75         15   \n",
       "36355       346   23:45:00         16    79866       96      297        201   \n",
       "37102       354   06:15:00          4    21226       53       62          9   \n",
       "37682       280   23:45:00         74    32861       68      192        124   \n",
       "41064       231   12:45:00         11    46116       81      347        266   \n",
       "44267       336   05:45:00          5    20610       39       75         36   \n",
       "44702       377   06:15:00          1    22620       60       60          0   \n",
       "45005       216   23:45:00         69    24936       64      191        127   \n",
       "...         ...        ...        ...      ...      ...      ...        ...   \n",
       "1740602     252   23:45:00          3    51022       86      203        117   \n",
       "1743464     260   04:30:00          8    15653       54       77         23   \n",
       "1744130     356   23:45:00          1    86152      242      242          0   \n",
       "1744887     342   23:45:00          2    86184      243      261         18   \n",
       "1745316     282   23:45:00         79    32350       61      164        103   \n",
       "1747221     215   23:45:00        116    38713       64      375        311   \n",
       "1747520     263   23:45:00        136    45897       64      375        311   \n",
       "1747879     229   23:45:00         42    26827       70      162         92   \n",
       "1747934     198   04:15:00          7    11972       51       73         22   \n",
       "1748530     329   05:45:00          5    19893       51       65         14   \n",
       "1751898     268   23:30:00         81    30474       39      163        124   \n",
       "1752737     270   23:45:00        136    47269       64      375        311   \n",
       "1755463     317   05:30:00          7    19165       51       73         22   \n",
       "1759108     312   05:30:00          7    18865       51       73         22   \n",
       "1761584     445   23:45:00          1    86330      194      194          0   \n",
       "1763129     344   06:00:00          9    20678       54       77         23   \n",
       "1765284     308   23:45:00         29    66234      154      261        107   \n",
       "1766839     214   22:15:00         32    24981       61      162        101   \n",
       "1767280     261   23:45:00        133    44897       64      340        276   \n",
       "1767372    1921   23:45:00         18    85981       34       89         55   \n",
       "1767997     499   13:15:00          2    29920       40       60         20   \n",
       "1768337     241   04:15:00          6    14589       51       73         22   \n",
       "1772429     264   23:45:00         77    30524       62      192        130   \n",
       "1772467     356   06:15:00          4    21383       52       73         21   \n",
       "1779469     227   18:15:00          1    66057      291      291          0   \n",
       "1782191     282   05:00:00          9    16967       54       77         23   \n",
       "1782705     262   23:45:00          2    47030       50      180        130   \n",
       "1783298     258   23:45:00         76    29524       62      190        128   \n",
       "1783735     221   12:45:00         28    37967       34      232        198   \n",
       "1786271     264   23:45:00        136    46041       64      375        311   \n",
       "\n",
       "         track.nuniq  album.nuniq dev_type       os   access  birth_year  \\\n",
       "user_id                                                                    \n",
       "1085             100           10  desktop  Browser     free      1981.0   \n",
       "2102               5            1   mobile      iOS  premium      1988.0   \n",
       "3800             260           43  desktop  Browser  premium      1990.0   \n",
       "4860             207           41  desktop  Browser  premium      1990.0   \n",
       "5750              99           10  desktop  Browser     free      1959.0   \n",
       "6138              10            1   mobile      iOS  premium      1998.0   \n",
       "7097             101           10  desktop  Browser     free      1961.0   \n",
       "7549               1            1  desktop    other  premium      1987.0   \n",
       "8749             100           10  desktop  Browser     free      1982.0   \n",
       "10077            230          230  desktop    Linux     free      1995.0   \n",
       "10613            234           42  desktop  Browser  premium      1973.0   \n",
       "10735            100           10  desktop  Browser     free      1972.0   \n",
       "14470             50           15   mobile  Android  premium      1996.0   \n",
       "20901            100           10  desktop  Browser     free      1962.0   \n",
       "21461             29            6  desktop  Windows     free      1995.0   \n",
       "21911             19            3  desktop  Windows     free      1992.0   \n",
       "22082             99           10  desktop  Browser     free      1995.0   \n",
       "25334            408           47   mobile  Android  premium      1995.0   \n",
       "27778            230          230  desktop    Linux     free      1985.0   \n",
       "30343              1            1   mobile      iOS  premium      1975.0   \n",
       "31824             99           10  desktop  Browser     free      1978.0   \n",
       "32278              1            1  desktop    other  premium      1957.0   \n",
       "34094             10            1   mobile  Android  premium      1985.0   \n",
       "36355             16            1   mobile  Android  premium      1987.0   \n",
       "37102            100           10  desktop  Browser     free      1993.0   \n",
       "37682            266           40  desktop  Browser  premium      1993.0   \n",
       "41064             11            1  desktop      Mac  premium      1983.0   \n",
       "44267             10            1  desktop    other  premium      1986.0   \n",
       "44702              1            1   mobile      iOS  premium      1985.0   \n",
       "45005            214           43   mobile  Android  premium      1990.0   \n",
       "...              ...          ...      ...      ...      ...         ...   \n",
       "1740602            1            1   mobile      iOS  premium      1961.0   \n",
       "1743464           99           10  desktop  Browser     free      1988.0   \n",
       "1744130            1            1  desktop      Mac  premium      1989.0   \n",
       "1744887            2            1   mobile  Android  premium      1987.0   \n",
       "1745316          282           46  desktop    Linux  premium      1963.0   \n",
       "1747221          167           10  desktop    Linux  premium      1971.0   \n",
       "1747520          217           14  desktop    Linux  premium      1973.0   \n",
       "1747879          221           10  desktop  Browser  premium      1994.0   \n",
       "1747934          101           10  desktop  Browser     free      1973.0   \n",
       "1748530          101           10  desktop  Browser     free      1981.0   \n",
       "1751898          266           47   mobile  Android     free      1990.0   \n",
       "1752737          217           14  desktop    Linux  premium      1972.0   \n",
       "1755463          100           10  desktop  Browser     free      1955.0   \n",
       "1759108          100           10  desktop  Browser     free      1978.0   \n",
       "1761584            1            1  desktop      Mac  premium      1966.0   \n",
       "1763129           99           10  desktop  Browser     free      1957.0   \n",
       "1765284           32            9  desktop  Windows     free      1960.0   \n",
       "1766839          158           10  desktop  Browser  premium      1980.0   \n",
       "1767280          214           14  desktop    Linux  premium      1951.0   \n",
       "1767372           25            5   mobile  Android  premium      1981.0   \n",
       "1767997           10            1   tablet      iOS  premium      1975.0   \n",
       "1768337          100           10  desktop  Browser     free      1996.0   \n",
       "1772429          264           46  desktop    Linux  premium      1953.0   \n",
       "1772467           99           10  desktop  Browser     free      1968.0   \n",
       "1779469            1            1  desktop      Mac  premium      1951.0   \n",
       "1782191          100           10  desktop  Browser     free      1977.0   \n",
       "1782705            1            1  desktop      Mac     free      1987.0   \n",
       "1783298          258           48  desktop    Linux  premium      1992.0   \n",
       "1783735           33            3   mobile  Android  premium      1972.0   \n",
       "1786271          217           14  desktop    Linux  premium      1992.0   \n",
       "\n",
       "         country  gender   age  \n",
       "user_id                         \n",
       "1085          22    male  36.0  \n",
       "2102          59    male  29.0  \n",
       "3800          59    male  27.0  \n",
       "4860          59    male  27.0  \n",
       "5750          37  female  58.0  \n",
       "6138          30  female  19.0  \n",
       "7097          52    male  56.0  \n",
       "7549          59  female  30.0  \n",
       "8749          16    male  35.0  \n",
       "10077         45  female  22.0  \n",
       "10613         59          44.0  \n",
       "10735         37    male  45.0  \n",
       "14470         15  female  21.0  \n",
       "20901         44  female  55.0  \n",
       "21461         59  female  22.0  \n",
       "21911         52  female  25.0  \n",
       "22082         43  female  22.0  \n",
       "25334         59    male  22.0  \n",
       "27778          4    male  32.0  \n",
       "30343         59  female  42.0  \n",
       "31824         43    male  39.0  \n",
       "32278         59  female  60.0  \n",
       "34094         59    male  32.0  \n",
       "36355         59    male  30.0  \n",
       "37102         37  female  24.0  \n",
       "37682         59    male  24.0  \n",
       "41064         21    male  34.0  \n",
       "44267         59    male  31.0  \n",
       "44702         22    male  32.0  \n",
       "45005         59    male  27.0  \n",
       "...          ...     ...   ...  \n",
       "1740602       52  female  56.0  \n",
       "1743464       52    male  29.0  \n",
       "1744130       52    male  28.0  \n",
       "1744887       52    male  30.0  \n",
       "1745316       59  female  54.0  \n",
       "1747221       59  female  46.0  \n",
       "1747520       59    male  44.0  \n",
       "1747879       59    male  23.0  \n",
       "1747934       44  female  44.0  \n",
       "1748530       21  female  36.0  \n",
       "1751898       59  female  27.0  \n",
       "1752737       59  female  45.0  \n",
       "1755463       20    male  62.0  \n",
       "1759108       16    male  39.0  \n",
       "1761584       52    male  51.0  \n",
       "1763129       22    male  60.0  \n",
       "1765284       59    male  57.0  \n",
       "1766839       59          37.0  \n",
       "1767280       59    male  66.0  \n",
       "1767372        8    male  36.0  \n",
       "1767997       59    male  42.0  \n",
       "1768337       43  female  21.0  \n",
       "1772429       59  female  64.0  \n",
       "1772467       37    male  49.0  \n",
       "1779469       52  female  66.0  \n",
       "1782191       20    male  40.0  \n",
       "1782705       52    male  30.0  \n",
       "1783298       59  female  25.0  \n",
       "1783735        9  female  45.0  \n",
       "1786271       59    male  25.0  \n",
       "\n",
       "[897 rows x 16 columns]"
      ]
     },
     "execution_count": 101,
     "metadata": {},
     "output_type": "execute_result"
    }
   ],
   "source": [
    "datByUser[datByUser[\"time.n\"].ge(190)]"
   ]
  },
  {
   "cell_type": "code",
   "execution_count": 60,
   "metadata": {},
   "outputs": [
    {
     "data": {
      "text/plain": [
       "939"
      ]
     },
     "execution_count": 60,
     "metadata": {},
     "output_type": "execute_result"
    }
   ],
   "source": [
    "datByUser[\"time.n\"][datByUser[\"time.n\"].ge(180)].count()"
   ]
  },
  {
   "cell_type": "code",
   "execution_count": 31,
   "metadata": {},
   "outputs": [
    {
     "data": {
      "text/plain": [
       "<matplotlib.axes._subplots.AxesSubplot at 0x1a8ab66b00>"
      ]
     },
     "execution_count": 31,
     "metadata": {},
     "output_type": "execute_result"
    },
    {
     "data": {
      "image/png": "[encoded data removed]",
      "text/plain": [
       "<matplotlib.figure.Figure at 0x1a8ab66320>"
      ]
     },
     "metadata": {},
     "output_type": "display_data"
    }
   ],
   "source": [
    "datByUser[\"time.n\"][datByUser[\"time.n\"].ge(200)].hist()"
   ]
  },
  {
   "cell_type": "markdown",
   "metadata": {},
   "source": [
    "Note: not all users with high track counts are listening to these tracks in their entirety (there's a likely scenario that many might be \"browsing\", or going through tracks to find stuff they like). So high track count should at least be used in conjunction wiht total listening time."
   ]
  },
  {
   "cell_type": "markdown",
   "metadata": {},
   "source": [
    "Now let's look at all user_ids that are streaming more than 43200 seconds (12 hours) per day."
   ]
  },
  {
   "cell_type": "code",
   "execution_count": 32,
   "metadata": {},
   "outputs": [
    {
     "data": {
      "text/plain": [
       "392"
      ]
     },
     "execution_count": 32,
     "metadata": {},
     "output_type": "execute_result"
    }
   ],
   "source": [
    "datByUser[\"len.sum\"][datByUser[\"len.sum\"].ge(43200)].count()"
   ]
  },
  {
   "cell_type": "code",
   "execution_count": 33,
   "metadata": {},
   "outputs": [
    {
     "data": {
      "text/plain": [
       "<matplotlib.axes._subplots.AxesSubplot at 0x1a45a9be10>"
      ]
     },
     "execution_count": 33,
     "metadata": {},
     "output_type": "execute_result"
    },
    {
     "data": {
      "image/png": "[encoded data removed]",
      "text/plain": [
       "<matplotlib.figure.Figure at 0x1a45a7aba8>"
      ]
     },
     "metadata": {},
     "output_type": "display_data"
    }
   ],
   "source": [
    "datByUser[\"len.sum\"][datByUser[\"len.sum\"].ge(43200)].hist()"
   ]
  },
  {
   "cell_type": "markdown",
   "metadata": {},
   "source": [
    "Now let's zoom-in on these users and look at more specific aspects of their listening behavior.\n",
    "\n",
    "So we'll create a subset of the data to include only these high bandwidth users."
   ]
  },
  {
   "cell_type": "code",
   "execution_count": 87,
   "metadata": {},
   "outputs": [
    {
     "data": {
      "text/plain": [
       "435.0"
      ]
     },
     "execution_count": 87,
     "metadata": {},
     "output_type": "execute_result"
    }
   ],
   "source": [
    "datByUser[\"time.range\"].astype('timedelta64[m]').astype('int').quantile(.90)"
   ]
  },
  {
   "cell_type": "code",
   "execution_count": 80,
   "metadata": {},
   "outputs": [
    {
     "data": {
      "text/plain": [
       "<matplotlib.axes._subplots.AxesSubplot at 0x1a4650f240>"
      ]
     },
     "execution_count": 80,
     "metadata": {},
     "output_type": "execute_result"
    },
    {
     "data": {
      "image/png": "[encoded data removed]",
      "text/plain": [
       "<matplotlib.figure.Figure at 0x1a464d0940>"
      ]
     },
     "metadata": {},
     "output_type": "display_data"
    }
   ],
   "source": [
    "# histogram of the range (max-min) of listening, in hours\n",
    "datByUser[\"time.range\"].astype('timedelta64[m]').hist()"
   ]
  },
  {
   "cell_type": "code",
   "execution_count": 35,
   "metadata": {},
   "outputs": [
    {
     "data": {
      "text/plain": [
       "<matplotlib.axes._subplots.AxesSubplot at 0x1a45b0da90>"
      ]
     },
     "execution_count": 35,
     "metadata": {},
     "output_type": "execute_result"
    },
    {
     "data": {
      "image/png": "[encoded data removed]",
      "text/plain": [
       "<matplotlib.figure.Figure at 0x1a45bdc898>"
      ]
     },
     "metadata": {},
     "output_type": "display_data"
    }
   ],
   "source": [
    "datByUser[\"len.min\"].hist()"
   ]
  },
  {
   "cell_type": "code",
   "execution_count": 36,
   "metadata": {},
   "outputs": [
    {
     "data": {
      "text/plain": [
       "<matplotlib.axes._subplots.AxesSubplot at 0x1a45c049b0>"
      ]
     },
     "execution_count": 36,
     "metadata": {},
     "output_type": "execute_result"
    },
    {
     "data": {
      "image/png": "[encoded data removed]",
      "text/plain": [
       "<matplotlib.figure.Figure at 0x1a45c7aa58>"
      ]
     },
     "metadata": {},
     "output_type": "display_data"
    }
   ],
   "source": [
    "datByUser[\"len.max\"].hist()"
   ]
  },
  {
   "cell_type": "code",
   "execution_count": 37,
   "metadata": {},
   "outputs": [
    {
     "data": {
      "text/plain": [
       "<matplotlib.axes._subplots.AxesSubplot at 0x1a45c8cfd0>"
      ]
     },
     "execution_count": 37,
     "metadata": {},
     "output_type": "execute_result"
    },
    {
     "data": {
      "image/png": "[encoded data removed]",
      "text/plain": [
       "<matplotlib.figure.Figure at 0x1a45cb17b8>"
      ]
     },
     "metadata": {},
     "output_type": "display_data"
    }
   ],
   "source": [
    "datByUser[\"len.range\"].hist()"
   ]
  },
  {
   "cell_type": "code",
   "execution_count": 38,
   "metadata": {},
   "outputs": [
    {
     "data": {
      "text/plain": [
       "<matplotlib.axes._subplots.AxesSubplot at 0x1a45d58c18>"
      ]
     },
     "execution_count": 38,
     "metadata": {},
     "output_type": "execute_result"
    },
    {
     "data": {
      "image/png": "[encoded data removed]",
      "text/plain": [
       "<matplotlib.figure.Figure at 0x1a45e10710>"
      ]
     },
     "metadata": {},
     "output_type": "display_data"
    }
   ],
   "source": [
    "datByUser[\"track.range\"].hist()"
   ]
  },
  {
   "cell_type": "code",
   "execution_count": 39,
   "metadata": {},
   "outputs": [
    {
     "data": {
      "text/plain": [
       "<matplotlib.axes._subplots.AxesSubplot at 0x1a8ab5b278>"
      ]
     },
     "execution_count": 39,
     "metadata": {},
     "output_type": "execute_result"
    },
    {
     "data": {
      "image/png": "[encoded data removed]",
      "text/plain": [
       "<matplotlib.figure.Figure at 0x1a45eb43c8>"
      ]
     },
     "metadata": {},
     "output_type": "display_data"
    }
   ],
   "source": [
    "datByUser[\"album.range\"].hist()"
   ]
  },
  {
   "cell_type": "code",
   "execution_count": 40,
   "metadata": {},
   "outputs": [
    {
     "data": {
      "text/plain": [
       "<matplotlib.axes._subplots.AxesSubplot at 0x1a45eb4550>"
      ]
     },
     "execution_count": 40,
     "metadata": {},
     "output_type": "execute_result"
    },
    {
     "data": {
      "image/png": "[encoded data removed]",
      "text/plain": [
       "<matplotlib.figure.Figure at 0x1a45ed7da0>"
      ]
     },
     "metadata": {},
     "output_type": "display_data"
    }
   ],
   "source": [
    "datByUser[\"dev_type\"].hist()"
   ]
  },
  {
   "cell_type": "code",
   "execution_count": 41,
   "metadata": {},
   "outputs": [
    {
     "data": {
      "text/plain": [
       "<matplotlib.axes._subplots.AxesSubplot at 0x1a45d18470>"
      ]
     },
     "execution_count": 41,
     "metadata": {},
     "output_type": "execute_result"
    },
    {
     "data": {
      "image/png": "[encoded data removed]",
      "text/plain": [
       "<matplotlib.figure.Figure at 0x1a45f83550>"
      ]
     },
     "metadata": {},
     "output_type": "display_data"
    }
   ],
   "source": [
    "datByUser[\"os\"].hist()"
   ]
  },
  {
   "cell_type": "code",
   "execution_count": 42,
   "metadata": {},
   "outputs": [
    {
     "data": {
      "text/plain": [
       "<matplotlib.axes._subplots.AxesSubplot at 0x1a46004588>"
      ]
     },
     "execution_count": 42,
     "metadata": {},
     "output_type": "execute_result"
    },
    {
     "data": {
      "image/png": "[encoded data removed]",
      "text/plain": [
       "<matplotlib.figure.Figure at 0x1a46086470>"
      ]
     },
     "metadata": {},
     "output_type": "display_data"
    }
   ],
   "source": [
    "datByUser[\"access\"].hist()"
   ]
  },
  {
   "cell_type": "code",
   "execution_count": 43,
   "metadata": {},
   "outputs": [
    {
     "data": {
      "text/plain": [
       "<matplotlib.axes._subplots.AxesSubplot at 0x1a462385f8>"
      ]
     },
     "execution_count": 43,
     "metadata": {},
     "output_type": "execute_result"
    },
    {
     "data": {
      "image/png": "[encoded data removed]",
      "text/plain": [
       "<matplotlib.figure.Figure at 0x1a460f84a8>"
      ]
     },
     "metadata": {},
     "output_type": "display_data"
    }
   ],
   "source": [
    "datByUser[\"age\"].hist()"
   ]
  },
  {
   "cell_type": "code",
   "execution_count": 44,
   "metadata": {},
   "outputs": [
    {
     "data": {
      "text/plain": [
       "<matplotlib.axes._subplots.AxesSubplot at 0x1a462736d8>"
      ]
     },
     "execution_count": 44,
     "metadata": {},
     "output_type": "execute_result"
    },
    {
     "data": {
      "image/png": "[encoded data removed]",
      "text/plain": [
       "<matplotlib.figure.Figure at 0x1a462862b0>"
      ]
     },
     "metadata": {},
     "output_type": "display_data"
    }
   ],
   "source": [
    "datByUser[\"country\"].hist()"
   ]
  },
  {
   "cell_type": "code",
   "execution_count": 45,
   "metadata": {},
   "outputs": [
    {
     "data": {
      "text/plain": [
       "<matplotlib.axes._subplots.AxesSubplot at 0x1a46273898>"
      ]
     },
     "execution_count": 45,
     "metadata": {},
     "output_type": "execute_result"
    },
    {
     "data": {
      "image/png": "[encoded data removed]",
      "text/plain": [
       "<matplotlib.figure.Figure at 0x1a463222e8>"
      ]
     },
     "metadata": {},
     "output_type": "display_data"
    }
   ],
   "source": [
    "datByUser[\"gender\"].hist()"
   ]
  },
  {
   "cell_type": "markdown",
   "metadata": {},
   "source": [
    "Data is highly skewed so let's look at medians"
   ]
  },
  {
   "cell_type": "markdown",
   "metadata": {},
   "source": [
    "## How to find fraud behavior\n",
    "\n",
    "Look at number at tracks listened to in a day.\n",
    "\n",
    "Visualize listening behavior for a user.\n",
    "\n",
    "Find a really good criteria, and stick with it.\n"
   ]
  },
  {
   "cell_type": "markdown",
   "metadata": {},
   "source": [
    "Calculation of various statistical parameters such as averages, quantiles, performance metrics, probability distributions, and so on. For example, the averages may include average length of call, average number of calls per month and average delays in bill payment.\n",
    "\n",
    "Clustering and classification to find patterns and associations among groups of data."
   ]
  },
  {
   "cell_type": "code",
   "execution_count": null,
   "metadata": {},
   "outputs": [],
   "source": []
  }
 ],
 "metadata": {
  "kernelspec": {
   "display_name": "Python 3",
   "language": "python",
   "name": "python3"
  },
  "language_info": {
   "codemirror_mode": {
    "name": "ipython",
    "version": 3
   },
   "file_extension": ".py",
   "mimetype": "text/x-python",
   "name": "python",
   "nbconvert_exporter": "python",
   "pygments_lexer": "ipython3",
   "version": "3.6.3"
  }
 },
 "nbformat": 4,
 "nbformat_minor": 2
}
